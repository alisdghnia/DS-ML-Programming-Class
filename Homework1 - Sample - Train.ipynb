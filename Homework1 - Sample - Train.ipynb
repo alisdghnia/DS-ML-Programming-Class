{
 "cells": [
  {
   "cell_type": "code",
   "execution_count": 2,
   "metadata": {},
   "outputs": [],
   "source": [
    "import sklearn\n",
    "import pandas as pd\n",
    "import numpy as np\n",
    "import matplotlib.pyplot as plt"
   ]
  },
  {
   "cell_type": "code",
   "execution_count": 4,
   "metadata": {},
   "outputs": [],
   "source": [
    "from sklearn.datasets import fetch_openml"
   ]
  },
  {
   "cell_type": "code",
   "execution_count": 5,
   "metadata": {},
   "outputs": [],
   "source": [
    "mnist = fetch_openml('mnist_784', version=1, as_frame=False)"
   ]
  },
  {
   "cell_type": "code",
   "execution_count": 6,
   "metadata": {},
   "outputs": [],
   "source": [
    "X, y = mnist[\"data\"], mnist[\"target\"]"
   ]
  },
  {
   "cell_type": "code",
   "execution_count": 7,
   "metadata": {},
   "outputs": [
    {
     "data": {
      "text/plain": [
       "array([  0.,   0.,   0.,   0.,   0.,   0.,   0.,   0.,   0.,   0.,   0.,\n",
       "         0.,   0.,   0.,   0.,   0.,   0.,   0.,   0.,   0.,   0.,   0.,\n",
       "         0.,   0.,   0.,   0.,   0.,   0.,   0.,   0.,   0.,   0.,   0.,\n",
       "         0.,   0.,   0.,   0.,   0.,   0.,   0.,   0.,   0.,   0.,   0.,\n",
       "         0.,   0.,   0.,   0.,   0.,   0.,   0.,   0.,   0.,   0.,   0.,\n",
       "         0.,   0.,   0.,   0.,   0.,   0.,   0.,   0.,   0.,   0.,   0.,\n",
       "         0.,   0.,   0.,   0.,   0.,   0.,   0.,   0.,   0.,   0.,   0.,\n",
       "         0.,   0.,   0.,   0.,   0.,   0.,   0.,   0.,   0.,   0.,   0.,\n",
       "         0.,   0.,   0.,   0.,   0.,   0.,   0.,   0.,   0.,   0.,   0.,\n",
       "         0.,   0.,   0.,   0.,   0.,   0.,   0.,   0.,   0.,   0.,   0.,\n",
       "         0.,   0.,   0.,   0.,   0.,   0.,   0.,   0.,   0.,   0.,   0.,\n",
       "         0.,   0.,   0.,   0.,   0.,   0.,   0.,   0.,   0.,   0.,   0.,\n",
       "         0.,   0.,   0.,   0.,   0.,   0.,   0.,   0.,   0.,   0.,   0.,\n",
       "         0.,   0.,   0.,   0.,   0.,   0.,   0.,   0.,   0.,   3.,  18.,\n",
       "        18.,  18., 126., 136., 175.,  26., 166., 255., 247., 127.,   0.,\n",
       "         0.,   0.,   0.,   0.,   0.,   0.,   0.,   0.,   0.,   0.,   0.,\n",
       "        30.,  36.,  94., 154., 170., 253., 253., 253., 253., 253., 225.,\n",
       "       172., 253., 242., 195.,  64.,   0.,   0.,   0.,   0.,   0.,   0.,\n",
       "         0.,   0.,   0.,   0.,   0.,  49., 238., 253., 253., 253., 253.,\n",
       "       253., 253., 253., 253., 251.,  93.,  82.,  82.,  56.,  39.,   0.,\n",
       "         0.,   0.,   0.,   0.,   0.,   0.,   0.,   0.,   0.,   0.,   0.,\n",
       "        18., 219., 253., 253., 253., 253., 253., 198., 182., 247., 241.,\n",
       "         0.,   0.,   0.,   0.,   0.,   0.,   0.,   0.,   0.,   0.,   0.,\n",
       "         0.,   0.,   0.,   0.,   0.,   0.,   0.,  80., 156., 107., 253.,\n",
       "       253., 205.,  11.,   0.,  43., 154.,   0.,   0.,   0.,   0.,   0.,\n",
       "         0.,   0.,   0.,   0.,   0.,   0.,   0.,   0.,   0.,   0.,   0.,\n",
       "         0.,   0.,   0.,  14.,   1., 154., 253.,  90.,   0.,   0.,   0.,\n",
       "         0.,   0.,   0.,   0.,   0.,   0.,   0.,   0.,   0.,   0.,   0.,\n",
       "         0.,   0.,   0.,   0.,   0.,   0.,   0.,   0.,   0.,   0.,   0.,\n",
       "       139., 253., 190.,   2.,   0.,   0.,   0.,   0.,   0.,   0.,   0.,\n",
       "         0.,   0.,   0.,   0.,   0.,   0.,   0.,   0.,   0.,   0.,   0.,\n",
       "         0.,   0.,   0.,   0.,   0.,   0.,  11., 190., 253.,  70.,   0.,\n",
       "         0.,   0.,   0.,   0.,   0.,   0.,   0.,   0.,   0.,   0.,   0.,\n",
       "         0.,   0.,   0.,   0.,   0.,   0.,   0.,   0.,   0.,   0.,   0.,\n",
       "         0.,   0.,  35., 241., 225., 160., 108.,   1.,   0.,   0.,   0.,\n",
       "         0.,   0.,   0.,   0.,   0.,   0.,   0.,   0.,   0.,   0.,   0.,\n",
       "         0.,   0.,   0.,   0.,   0.,   0.,   0.,   0.,   0.,  81., 240.,\n",
       "       253., 253., 119.,  25.,   0.,   0.,   0.,   0.,   0.,   0.,   0.,\n",
       "         0.,   0.,   0.,   0.,   0.,   0.,   0.,   0.,   0.,   0.,   0.,\n",
       "         0.,   0.,   0.,   0.,   0.,  45., 186., 253., 253., 150.,  27.,\n",
       "         0.,   0.,   0.,   0.,   0.,   0.,   0.,   0.,   0.,   0.,   0.,\n",
       "         0.,   0.,   0.,   0.,   0.,   0.,   0.,   0.,   0.,   0.,   0.,\n",
       "         0.,  16.,  93., 252., 253., 187.,   0.,   0.,   0.,   0.,   0.,\n",
       "         0.,   0.,   0.,   0.,   0.,   0.,   0.,   0.,   0.,   0.,   0.,\n",
       "         0.,   0.,   0.,   0.,   0.,   0.,   0.,   0.,   0., 249., 253.,\n",
       "       249.,  64.,   0.,   0.,   0.,   0.,   0.,   0.,   0.,   0.,   0.,\n",
       "         0.,   0.,   0.,   0.,   0.,   0.,   0.,   0.,   0.,   0.,   0.,\n",
       "         0.,  46., 130., 183., 253., 253., 207.,   2.,   0.,   0.,   0.,\n",
       "         0.,   0.,   0.,   0.,   0.,   0.,   0.,   0.,   0.,   0.,   0.,\n",
       "         0.,   0.,   0.,   0.,   0.,  39., 148., 229., 253., 253., 253.,\n",
       "       250., 182.,   0.,   0.,   0.,   0.,   0.,   0.,   0.,   0.,   0.,\n",
       "         0.,   0.,   0.,   0.,   0.,   0.,   0.,   0.,   0.,  24., 114.,\n",
       "       221., 253., 253., 253., 253., 201.,  78.,   0.,   0.,   0.,   0.,\n",
       "         0.,   0.,   0.,   0.,   0.,   0.,   0.,   0.,   0.,   0.,   0.,\n",
       "         0.,   0.,  23.,  66., 213., 253., 253., 253., 253., 198.,  81.,\n",
       "         2.,   0.,   0.,   0.,   0.,   0.,   0.,   0.,   0.,   0.,   0.,\n",
       "         0.,   0.,   0.,   0.,   0.,   0.,  18., 171., 219., 253., 253.,\n",
       "       253., 253., 195.,  80.,   9.,   0.,   0.,   0.,   0.,   0.,   0.,\n",
       "         0.,   0.,   0.,   0.,   0.,   0.,   0.,   0.,   0.,   0.,  55.,\n",
       "       172., 226., 253., 253., 253., 253., 244., 133.,  11.,   0.,   0.,\n",
       "         0.,   0.,   0.,   0.,   0.,   0.,   0.,   0.,   0.,   0.,   0.,\n",
       "         0.,   0.,   0.,   0.,   0., 136., 253., 253., 253., 212., 135.,\n",
       "       132.,  16.,   0.,   0.,   0.,   0.,   0.,   0.,   0.,   0.,   0.,\n",
       "         0.,   0.,   0.,   0.,   0.,   0.,   0.,   0.,   0.,   0.,   0.,\n",
       "         0.,   0.,   0.,   0.,   0.,   0.,   0.,   0.,   0.,   0.,   0.,\n",
       "         0.,   0.,   0.,   0.,   0.,   0.,   0.,   0.,   0.,   0.,   0.,\n",
       "         0.,   0.,   0.,   0.,   0.,   0.,   0.,   0.,   0.,   0.,   0.,\n",
       "         0.,   0.,   0.,   0.,   0.,   0.,   0.,   0.,   0.,   0.,   0.,\n",
       "         0.,   0.,   0.,   0.,   0.,   0.,   0.,   0.,   0.,   0.,   0.,\n",
       "         0.,   0.,   0.,   0.,   0.,   0.,   0.,   0.,   0.,   0.,   0.,\n",
       "         0.,   0.,   0.,   0.,   0.,   0.,   0.,   0.,   0.,   0.,   0.,\n",
       "         0.,   0.,   0.])"
      ]
     },
     "execution_count": 7,
     "metadata": {},
     "output_type": "execute_result"
    }
   ],
   "source": [
    "X[0]"
   ]
  },
  {
   "cell_type": "code",
   "execution_count": 8,
   "metadata": {},
   "outputs": [],
   "source": [
    "y = y.astype(int)"
   ]
  },
  {
   "cell_type": "code",
   "execution_count": 53,
   "metadata": {},
   "outputs": [],
   "source": [
    "X_train, X_test, y_train, y_test = X[:60000], X[60000:],y[:60000], y[60000:]"
   ]
  },
  {
   "cell_type": "code",
   "execution_count": 10,
   "metadata": {},
   "outputs": [
    {
     "data": {
      "text/plain": [
       "array([  0.,   0.,   0.,   0.,   0.,   0.,   0.,   0.,   0.,   0.,   0.,\n",
       "         0.,   0.,   0.,   0.,   0.,   0.,   0.,   0.,   0.,   0.,   0.,\n",
       "         0.,   0.,   0.,   0.,   0.,   0.,   0.,   0.,   0.,   0.,   0.,\n",
       "         0.,   0.,   0.,   0.,   0.,   0.,   0.,   0.,   0.,   0.,   0.,\n",
       "         0.,   0.,   0.,   0.,   0.,   0.,   0.,   0.,   0.,   0.,   0.,\n",
       "         0.,   0.,   0.,   0.,   0.,   0.,   0.,   0.,   0.,   0.,   0.,\n",
       "         0.,   0.,   0.,   0.,   0.,   0.,   0.,   0.,   0.,   0.,   0.,\n",
       "         0.,   0.,   0.,   0.,   0.,   0.,   0.,   0.,   0.,   0.,   0.,\n",
       "         0.,   0.,   0.,   0.,   0.,   0.,   0.,   0.,   0.,   0.,   0.,\n",
       "         0.,   0.,   0.,   0.,   0.,   0.,   0.,   0.,   0.,   0.,   0.,\n",
       "         0.,   0.,   0.,   0.,   0.,   0.,   0.,   0.,   0.,   0.,   0.,\n",
       "         0.,   0.,   0.,   0.,   0.,   0.,   0.,   0.,   0.,   0.,   0.,\n",
       "         0.,   0.,   0.,   0.,   0.,   0.,   0.,   0.,   0.,   0.,   0.,\n",
       "         0.,   0.,   0.,   0.,   0.,   0.,   0.,   0.,   0.,   3.,  18.,\n",
       "        18.,  18., 126., 136., 175.,  26., 166., 255., 247., 127.,   0.,\n",
       "         0.,   0.,   0.,   0.,   0.,   0.,   0.,   0.,   0.,   0.,   0.,\n",
       "        30.,  36.,  94., 154., 170., 253., 253., 253., 253., 253., 225.,\n",
       "       172., 253., 242., 195.,  64.,   0.,   0.,   0.,   0.,   0.,   0.,\n",
       "         0.,   0.,   0.,   0.,   0.,  49., 238., 253., 253., 253., 253.,\n",
       "       253., 253., 253., 253., 251.,  93.,  82.,  82.,  56.,  39.,   0.,\n",
       "         0.,   0.,   0.,   0.,   0.,   0.,   0.,   0.,   0.,   0.,   0.,\n",
       "        18., 219., 253., 253., 253., 253., 253., 198., 182., 247., 241.,\n",
       "         0.,   0.,   0.,   0.,   0.,   0.,   0.,   0.,   0.,   0.,   0.,\n",
       "         0.,   0.,   0.,   0.,   0.,   0.,   0.,  80., 156., 107., 253.,\n",
       "       253., 205.,  11.,   0.,  43., 154.,   0.,   0.,   0.,   0.,   0.,\n",
       "         0.,   0.,   0.,   0.,   0.,   0.,   0.,   0.,   0.,   0.,   0.,\n",
       "         0.,   0.,   0.,  14.,   1., 154., 253.,  90.,   0.,   0.,   0.,\n",
       "         0.,   0.,   0.,   0.,   0.,   0.,   0.,   0.,   0.,   0.,   0.,\n",
       "         0.,   0.,   0.,   0.,   0.,   0.,   0.,   0.,   0.,   0.,   0.,\n",
       "       139., 253., 190.,   2.,   0.,   0.,   0.,   0.,   0.,   0.,   0.,\n",
       "         0.,   0.,   0.,   0.,   0.,   0.,   0.,   0.,   0.,   0.,   0.,\n",
       "         0.,   0.,   0.,   0.,   0.,   0.,  11., 190., 253.,  70.,   0.,\n",
       "         0.,   0.,   0.,   0.,   0.,   0.,   0.,   0.,   0.,   0.,   0.,\n",
       "         0.,   0.,   0.,   0.,   0.,   0.,   0.,   0.,   0.,   0.,   0.,\n",
       "         0.,   0.,  35., 241., 225., 160., 108.,   1.,   0.,   0.,   0.,\n",
       "         0.,   0.,   0.,   0.,   0.,   0.,   0.,   0.,   0.,   0.,   0.,\n",
       "         0.,   0.,   0.,   0.,   0.,   0.,   0.,   0.,   0.,  81., 240.,\n",
       "       253., 253., 119.,  25.,   0.,   0.,   0.,   0.,   0.,   0.,   0.,\n",
       "         0.,   0.,   0.,   0.,   0.,   0.,   0.,   0.,   0.,   0.,   0.,\n",
       "         0.,   0.,   0.,   0.,   0.,  45., 186., 253., 253., 150.,  27.,\n",
       "         0.,   0.,   0.,   0.,   0.,   0.,   0.,   0.,   0.,   0.,   0.,\n",
       "         0.,   0.,   0.,   0.,   0.,   0.,   0.,   0.,   0.,   0.,   0.,\n",
       "         0.,  16.,  93., 252., 253., 187.,   0.,   0.,   0.,   0.,   0.,\n",
       "         0.,   0.,   0.,   0.,   0.,   0.,   0.,   0.,   0.,   0.,   0.,\n",
       "         0.,   0.,   0.,   0.,   0.,   0.,   0.,   0.,   0., 249., 253.,\n",
       "       249.,  64.,   0.,   0.,   0.,   0.,   0.,   0.,   0.,   0.,   0.,\n",
       "         0.,   0.,   0.,   0.,   0.,   0.,   0.,   0.,   0.,   0.,   0.,\n",
       "         0.,  46., 130., 183., 253., 253., 207.,   2.,   0.,   0.,   0.,\n",
       "         0.,   0.,   0.,   0.,   0.,   0.,   0.,   0.,   0.,   0.,   0.,\n",
       "         0.,   0.,   0.,   0.,   0.,  39., 148., 229., 253., 253., 253.,\n",
       "       250., 182.,   0.,   0.,   0.,   0.,   0.,   0.,   0.,   0.,   0.,\n",
       "         0.,   0.,   0.,   0.,   0.,   0.,   0.,   0.,   0.,  24., 114.,\n",
       "       221., 253., 253., 253., 253., 201.,  78.,   0.,   0.,   0.,   0.,\n",
       "         0.,   0.,   0.,   0.,   0.,   0.,   0.,   0.,   0.,   0.,   0.,\n",
       "         0.,   0.,  23.,  66., 213., 253., 253., 253., 253., 198.,  81.,\n",
       "         2.,   0.,   0.,   0.,   0.,   0.,   0.,   0.,   0.,   0.,   0.,\n",
       "         0.,   0.,   0.,   0.,   0.,   0.,  18., 171., 219., 253., 253.,\n",
       "       253., 253., 195.,  80.,   9.,   0.,   0.,   0.,   0.,   0.,   0.,\n",
       "         0.,   0.,   0.,   0.,   0.,   0.,   0.,   0.,   0.,   0.,  55.,\n",
       "       172., 226., 253., 253., 253., 253., 244., 133.,  11.,   0.,   0.,\n",
       "         0.,   0.,   0.,   0.,   0.,   0.,   0.,   0.,   0.,   0.,   0.,\n",
       "         0.,   0.,   0.,   0.,   0., 136., 253., 253., 253., 212., 135.,\n",
       "       132.,  16.,   0.,   0.,   0.,   0.,   0.,   0.,   0.,   0.,   0.,\n",
       "         0.,   0.,   0.,   0.,   0.,   0.,   0.,   0.,   0.,   0.,   0.,\n",
       "         0.,   0.,   0.,   0.,   0.,   0.,   0.,   0.,   0.,   0.,   0.,\n",
       "         0.,   0.,   0.,   0.,   0.,   0.,   0.,   0.,   0.,   0.,   0.,\n",
       "         0.,   0.,   0.,   0.,   0.,   0.,   0.,   0.,   0.,   0.,   0.,\n",
       "         0.,   0.,   0.,   0.,   0.,   0.,   0.,   0.,   0.,   0.,   0.,\n",
       "         0.,   0.,   0.,   0.,   0.,   0.,   0.,   0.,   0.,   0.,   0.,\n",
       "         0.,   0.,   0.,   0.,   0.,   0.,   0.,   0.,   0.,   0.,   0.,\n",
       "         0.,   0.,   0.,   0.,   0.,   0.,   0.,   0.,   0.,   0.,   0.,\n",
       "         0.,   0.,   0.])"
      ]
     },
     "execution_count": 10,
     "metadata": {},
     "output_type": "execute_result"
    }
   ],
   "source": [
    "X_train[0]"
   ]
  },
  {
   "cell_type": "code",
   "execution_count": 11,
   "metadata": {},
   "outputs": [
    {
     "data": {
      "image/png": "[encoded data removed]",
      "text/plain": [
       "<Figure size 432x288 with 1 Axes>"
      ]
     },
     "metadata": {
      "needs_background": "light"
     },
     "output_type": "display_data"
    }
   ],
   "source": [
    "some_digit = X_train[0]\n",
    "some_digit_image = some_digit.reshape(28,28)\n",
    "plt.imshow(some_digit_image)\n",
    "plt.show()"
   ]
  },
  {
   "cell_type": "code",
   "execution_count": 12,
   "metadata": {},
   "outputs": [
    {
     "name": "stdout",
     "output_type": "stream",
     "text": [
      "[5 0 4 1 9 2 1 3 1 4 3 5 3 6 1 7 2 8 6 9 4 0 9 1 1 2 4 3 2 7]\n",
      "[ True False False False False False False False False False False  True\n",
      " False False False False False False False False False False False False\n",
      " False False False False False False]\n"
     ]
    }
   ],
   "source": [
    "print(y_train[:30])\n",
    "y_train_5 = (y_train == 5) #true when a y train value is 5\n",
    "y_test_5 = (y_test == 5) #similar \n",
    "print(y_train_5[:30]) #check the before and after y values for the first 20 rows"
   ]
  },
  {
   "cell_type": "code",
   "execution_count": 39,
   "metadata": {},
   "outputs": [
    {
     "data": {
      "text/plain": [
       "array([ True, False, False, ...,  True, False, False])"
      ]
     },
     "execution_count": 39,
     "metadata": {},
     "output_type": "execute_result"
    }
   ],
   "source": [
    "y_train_5"
   ]
  },
  {
   "cell_type": "code",
   "execution_count": 122,
   "metadata": {},
   "outputs": [
    {
     "name": "stdout",
     "output_type": "stream",
     "text": [
      "{'y_train_[5]': array([ True, False, False, ...,  True, False, False]), 'y_train_[0]': array([False,  True, False, ..., False, False, False]), 'y_train_[4]': array([False, False,  True, ..., False, False, False]), 'y_train_[1]': array([False, False, False, ..., False, False, False]), 'y_train_[9]': array([False, False, False, ..., False, False, False]), 'y_train_[2]': array([False, False, False, ..., False, False, False]), 'y_train_[3]': array([False, False, False, ..., False, False, False]), 'y_train_[6]': array([False, False, False, ..., False,  True, False]), 'y_train_[7]': array([False, False, False, ..., False, False, False]), 'y_train_[8]': array([False, False, False, ..., False, False,  True])}\n",
      "dict_keys(['y_train_[5]', 'y_train_[0]', 'y_train_[4]', 'y_train_[1]', 'y_train_[9]', 'y_train_[2]', 'y_train_[3]', 'y_train_[6]', 'y_train_[7]', 'y_train_[8]'])\n"
     ]
    }
   ],
   "source": [
    "y_train_dict = {}\n",
    "for i in y_train:\n",
    "    y_train_dict['y_train_'f'{np.unique(i)}'] = np.array(y_train == i)\n",
    "\n",
    "# print(np.unique(y_train_dict.keys()))\n",
    "print(y_train_dict)\n",
    "print(y_train_dict.keys())"
   ]
  },
  {
   "cell_type": "code",
   "execution_count": 63,
   "metadata": {},
   "outputs": [
    {
     "data": {
      "text/plain": [
       "array([[False,  True, False, ..., False, False, False]])"
      ]
     },
     "execution_count": 63,
     "metadata": {},
     "output_type": "execute_result"
    }
   ],
   "source": [
    "y_train_dict['y_train_[0]']"
   ]
  },
  {
   "cell_type": "code",
   "execution_count": 177,
   "metadata": {},
   "outputs": [
    {
     "data": {
      "text/plain": [
       "{'y_train_[5]': array([ True, False, False, ...,  True, False, False]),\n",
       " 'y_train_[0]': array([False,  True, False, ..., False, False, False]),\n",
       " 'y_train_[4]': array([False, False,  True, ..., False, False, False]),\n",
       " 'y_train_[1]': array([False, False, False, ..., False, False, False]),\n",
       " 'y_train_[9]': array([False, False, False, ..., False, False, False]),\n",
       " 'y_train_[2]': array([False, False, False, ..., False, False, False]),\n",
       " 'y_train_[3]': array([False, False, False, ..., False, False, False]),\n",
       " 'y_train_[6]': array([False, False, False, ..., False,  True, False]),\n",
       " 'y_train_[7]': array([False, False, False, ..., False, False, False]),\n",
       " 'y_train_[8]': array([False, False, False, ..., False, False,  True])}"
      ]
     },
     "execution_count": 177,
     "metadata": {},
     "output_type": "execute_result"
    }
   ],
   "source": [
    "y_train_dict"
   ]
  },
  {
   "cell_type": "code",
   "execution_count": 178,
   "metadata": {},
   "outputs": [
    {
     "name": "stdout",
     "output_type": "stream",
     "text": [
      "y_train_[0] [False  True False ... False False False]\n",
      "y_train_[1] [False False False ... False False False]\n",
      "y_train_[2] [False False False ... False False False]\n",
      "y_train_[3] [False False False ... False False False]\n",
      "y_train_[4] [False False  True ... False False False]\n",
      "y_train_[5] [ True False False ...  True False False]\n",
      "y_train_[6] [False False False ... False  True False]\n",
      "y_train_[7] [False False False ... False False False]\n",
      "y_train_[8] [False False False ... False False  True]\n",
      "y_train_[9] [False False False ... False False False]\n"
     ]
    }
   ],
   "source": [
    "for i in range(0,10):\n",
    "    print('y_train_'f'{[i]}' ,y_train_dict['y_train_'f'{[i]}'])"
   ]
  },
  {
   "cell_type": "code",
   "execution_count": 188,
   "metadata": {},
   "outputs": [
    {
     "data": {
      "text/plain": [
       "SGDClassifier(random_state=42)"
      ]
     },
     "execution_count": 188,
     "metadata": {},
     "output_type": "execute_result"
    }
   ],
   "source": [
    "from sklearn.linear_model import SGDClassifier\n",
    "sgd_clf = SGDClassifier(max_iter=1000, tol=1e-3, random_state=42)\n",
    "sgd_clf.fit(X_train, y_train_5)"
   ]
  },
  {
   "cell_type": "code",
   "execution_count": 189,
   "metadata": {},
   "outputs": [
    {
     "data": {
      "text/plain": [
       "array([False, False, False, False, False, False, False, False, False,\n",
       "       False, False, False, False, False, False,  True, False, False,\n",
       "       False, False, False, False, False,  True, False])"
      ]
     },
     "execution_count": 189,
     "metadata": {},
     "output_type": "execute_result"
    }
   ],
   "source": [
    "sgd_clf.predict(X_test[0:25])"
   ]
  },
  {
   "cell_type": "code",
   "execution_count": 196,
   "metadata": {},
   "outputs": [
    {
     "data": {
      "text/plain": [
       "60000"
      ]
     },
     "execution_count": 196,
     "metadata": {},
     "output_type": "execute_result"
    }
   ],
   "source": [
    "len(y_train_5)"
   ]
  },
  {
   "cell_type": "code",
   "execution_count": 195,
   "metadata": {},
   "outputs": [
    {
     "data": {
      "text/plain": [
       "10000"
      ]
     },
     "execution_count": 195,
     "metadata": {},
     "output_type": "execute_result"
    }
   ],
   "source": [
    "len(y_test_5)"
   ]
  },
  {
   "cell_type": "code",
   "execution_count": 197,
   "metadata": {},
   "outputs": [
    {
     "name": "stdout",
     "output_type": "stream",
     "text": [
      "{'y_test_[7]': array([ True, False, False, ..., False, False, False]), 'y_test_[2]': array([False,  True, False, ..., False, False, False]), 'y_test_[1]': array([False, False,  True, ..., False, False, False]), 'y_test_[0]': array([False, False, False, ..., False, False, False]), 'y_test_[4]': array([False, False, False, ...,  True, False, False]), 'y_test_[9]': array([False, False, False, ..., False, False, False]), 'y_test_[5]': array([False, False, False, ..., False,  True, False]), 'y_test_[6]': array([False, False, False, ..., False, False,  True]), 'y_test_[3]': array([False, False, False, ..., False, False, False]), 'y_test_[8]': array([False, False, False, ..., False, False, False])}\n",
      "dict_keys(['y_test_[7]', 'y_test_[2]', 'y_test_[1]', 'y_test_[0]', 'y_test_[4]', 'y_test_[9]', 'y_test_[5]', 'y_test_[6]', 'y_test_[3]', 'y_test_[8]'])\n"
     ]
    }
   ],
   "source": [
    "y_test_dict = {}\n",
    "for i in y_test:\n",
    "    y_test_dict['y_test_'f'{np.unique(i)}'] = np.array(y_test == i)\n",
    "\n",
    "# print(np.unique(y_train_dict.keys()))\n",
    "print(y_test_dict)\n",
    "print(y_test_dict.keys())"
   ]
  },
  {
   "cell_type": "code",
   "execution_count": 225,
   "metadata": {},
   "outputs": [],
   "source": [
    "from typing import OrderedDict\n",
    "\n",
    "\n",
    "dict1 = OrderedDict(sorted(y_train_dict.items()))\n",
    "dict2 = OrderedDict(sorted(y_test_dict.items()))"
   ]
  },
  {
   "cell_type": "code",
   "execution_count": 198,
   "metadata": {},
   "outputs": [
    {
     "name": "stdout",
     "output_type": "stream",
     "text": [
      "[False  True False ... False False False]\n",
      "[[8953   67]\n",
      " [  39  941]]\n",
      "[False False False ... False False False]\n",
      "[[8786   79]\n",
      " [  18 1117]]\n",
      "[False False False ... False False False]\n",
      "[[8919   49]\n",
      " [ 275  757]]\n",
      "[ True False False ... False False False]\n",
      "[[8978   12]\n",
      " [ 453  557]]\n",
      "[False False False ... False False False]\n",
      "[[8824  194]\n",
      " [  55  927]]\n",
      "[ True False False ...  True False False]\n",
      "[[8707  401]\n",
      " [ 107  785]]\n",
      "[False False False ... False  True False]\n",
      "[[9029   13]\n",
      " [ 272  686]]\n",
      "[False False False ... False False False]\n",
      "[[8902   70]\n",
      " [ 107  921]]\n",
      "[False False False ... False False  True]\n",
      "[[8786  240]\n",
      " [ 369  605]]\n",
      "[False False False ... False False False]\n",
      "[[8889  102]\n",
      " [ 422  587]]\n"
     ]
    }
   ],
   "source": [
    "from sklearn.model_selection import cross_val_predict\n",
    "from sklearn.model_selection import cross_val_score\n",
    "from sklearn import metrics\n",
    "\n",
    "\n",
    "for i in range(0,10):\n",
    "    # print('y_train_'f'{[i]}' ,y_train_dict['y_train_'f'{[i]}'])\n",
    "    sgd_clf = SGDClassifier(max_iter=1000, tol=1e-3, random_state=42)\n",
    "    sgd_clf.fit(X_train, y_train_dict['y_train_'f'{[i]}'])\n",
    "    sgd_clf.predict(X_test[0:25])\n",
    "    # print(y_train_dict)\n",
    "    y_train_pred = cross_val_predict(sgd_clf, X_train, y_train_dict['y_train_'f'{[i]}'], cv=5)\n",
    "    print(y_train_pred)\n",
    "    print(metrics.confusion_matrix(y_test_dict['y_test_'f'{[i]}'], sgd_clf.predict(X_test)))\n",
    "    cross_val_score(sgd_clf, X_train, y_train_dict['y_train_'f'{[i]}'], cv=5, scoring=\"accuracy\")"
   ]
  },
  {
   "cell_type": "code",
   "execution_count": 232,
   "metadata": {},
   "outputs": [
    {
     "name": "stdout",
     "output_type": "stream",
     "text": [
      "Number0\n",
      "[False  True False ... False False False]\n",
      "[[53729   348]\n",
      " [  344  5579]]\n",
      "[0.98925    0.98825    0.989      0.98725    0.98858333]\n",
      "Number1\n",
      "[False False False ... False False False]\n",
      "[[53016   242]\n",
      " [  374  6368]]\n",
      "[0.98858333 0.99025    0.99066667 0.98933333 0.98983333]\n",
      "Number2\n",
      "[False False False ... False False False]\n",
      "[[52967  1075]\n",
      " [  833  5125]]\n",
      "[0.96683333 0.95933333 0.96775    0.97375    0.97333333]\n",
      "Number3\n",
      "[ True False False ... False False False]\n",
      "[[52096  1773]\n",
      " [  993  5138]]\n",
      "[0.92858333 0.94975    0.96316667 0.96108333 0.96691667]\n",
      "Number4\n",
      "[False False False ... False False False]\n",
      "[[53283   875]\n",
      " [  823  5019]]\n",
      "[0.97825    0.97225    0.96308333 0.9725     0.97241667]\n",
      "Number5\n",
      "[ True False False ...  True False False]\n",
      "[[53115  1464]\n",
      " [  916  4505]]\n",
      "[0.95466667 0.96975    0.9635     0.96533333 0.94841667]\n",
      "Number6\n",
      "[False False False ... False  True False]\n",
      "[[53580   502]\n",
      " [  765  5153]]\n",
      "[0.98375    0.97408333 0.97708333 0.9825     0.977     ]\n",
      "Number7\n",
      "[False False False ... False False False]\n",
      "[[53180   555]\n",
      " [  768  5497]]\n",
      "[0.98033333 0.9825     0.97333333 0.97725    0.97633333]\n",
      "Number8\n",
      "[False False False ... False False  True]\n",
      "[[49148  5001]\n",
      " [ 1392  4459]]\n",
      "[0.90666667 0.93833333 0.91566667 0.80708333 0.8995    ]\n",
      "Number9\n",
      "[False False False ... False False False]\n",
      "[[52300  1751]\n",
      " [ 1532  4417]]\n",
      "[0.94783333 0.93491667 0.94208333 0.94983333 0.95175   ]\n"
     ]
    }
   ],
   "source": [
    "from sklearn.model_selection import cross_val_predict\n",
    "from sklearn.model_selection import cross_val_score\n",
    "from sklearn import metrics\n",
    "\n",
    "df = []\n",
    "for i in range(0,10):\n",
    "    # print('y_train_'f'{[i]}' ,y_train_dict['y_train_'f'{[i]}'])\n",
    "    sgd_clf = SGDClassifier(max_iter=1000, tol=1e-3, random_state=42)\n",
    "    sgd_clf.fit(X_train, dict1['y_train_'f'{[i]}'])\n",
    "    # sgd_clf.predict(X_test[0:25])\n",
    "    # print(y_train_dict)\n",
    "    y_train_pred = cross_val_predict(sgd_clf, X_train, dict1['y_train_'f'{[i]}'], cv=5)\n",
    "    print('Number'f'{i}')\n",
    "    print(y_train_pred)\n",
    "    print(metrics.confusion_matrix(dict1['y_train_'f'{[i]}'], y_train_pred))\n",
    "    print(cross_val_score(sgd_clf, X_train, dict1['y_train_'f'{[i]}'], cv=5, scoring=\"accuracy\"))\n",
    "    number = 'Number'f'{i}'\n",
    "    prediction = y_train_pred\n",
    "    confusion_matrix = metrics.confusion_matrix(dict1['y_train_'f'{[i]}'], y_train_pred)\n",
    "    accuracy = cross_val_score(sgd_clf, X_train, dict1['y_train_'f'{[i]}'], cv=5, scoring=\"accuracy\")\n",
    "    df.append([number, prediction, confusion_matrix, accuracy])\n",
    "\n",
    "df_all_train = pd.DataFrame(df)"
   ]
  },
  {
   "cell_type": "code",
   "execution_count": 190,
   "metadata": {},
   "outputs": [
    {
     "data": {
      "text/plain": [
       "array([0.95466667, 0.96975   , 0.9635    , 0.96533333, 0.94841667])"
      ]
     },
     "execution_count": 190,
     "metadata": {},
     "output_type": "execute_result"
    }
   ],
   "source": [
    "from sklearn.model_selection import cross_val_score\n",
    "cross_val_score(sgd_clf, X_train, y_train_5, cv=5, scoring=\"accuracy\")"
   ]
  },
  {
   "cell_type": "code",
   "execution_count": 191,
   "metadata": {},
   "outputs": [],
   "source": [
    "from sklearn.model_selection import cross_val_predict\n",
    "y_train_5_pred = cross_val_predict(sgd_clf, X_train, y_train_5, cv=3)"
   ]
  },
  {
   "cell_type": "code",
   "execution_count": 192,
   "metadata": {},
   "outputs": [
    {
     "data": {
      "text/plain": [
       "array([ True, False, False, ...,  True, False, False])"
      ]
     },
     "execution_count": 192,
     "metadata": {},
     "output_type": "execute_result"
    }
   ],
   "source": [
    "y_train_5_pred"
   ]
  },
  {
   "cell_type": "code",
   "execution_count": 33,
   "metadata": {},
   "outputs": [
    {
     "name": "stdout",
     "output_type": "stream",
     "text": [
      "[[8707  401]\n",
      " [ 107  785]]\n"
     ]
    }
   ],
   "source": [
    "from sklearn import metrics\n",
    "print(metrics.confusion_matrix(y_test_5, sgd_clf.predict(X_test)))"
   ]
  },
  {
   "cell_type": "code",
   "execution_count": 233,
   "metadata": {},
   "outputs": [
    {
     "data": {
      "text/html": [
       "<div>\n",
       "<style scoped>\n",
       "    .dataframe tbody tr th:only-of-type {\n",
       "        vertical-align: middle;\n",
       "    }\n",
       "\n",
       "    .dataframe tbody tr th {\n",
       "        vertical-align: top;\n",
       "    }\n",
       "\n",
       "    .dataframe thead th {\n",
       "        text-align: right;\n",
       "    }\n",
       "</style>\n",
       "<table border=\"1\" class=\"dataframe\">\n",
       "  <thead>\n",
       "    <tr style=\"text-align: right;\">\n",
       "      <th></th>\n",
       "      <th>0</th>\n",
       "      <th>1</th>\n",
       "      <th>2</th>\n",
       "      <th>3</th>\n",
       "    </tr>\n",
       "  </thead>\n",
       "  <tbody>\n",
       "    <tr>\n",
       "      <th>0</th>\n",
       "      <td>Number0</td>\n",
       "      <td>[False, True, False, False, False, False, Fals...</td>\n",
       "      <td>[[53729, 348], [344, 5579]]</td>\n",
       "      <td>[0.98925, 0.98825, 0.989, 0.98725, 0.988583333...</td>\n",
       "    </tr>\n",
       "    <tr>\n",
       "      <th>1</th>\n",
       "      <td>Number1</td>\n",
       "      <td>[False, False, False, True, False, False, True...</td>\n",
       "      <td>[[53016, 242], [374, 6368]]</td>\n",
       "      <td>[0.9885833333333334, 0.99025, 0.99066666666666...</td>\n",
       "    </tr>\n",
       "    <tr>\n",
       "      <th>2</th>\n",
       "      <td>Number2</td>\n",
       "      <td>[False, False, False, False, False, True, Fals...</td>\n",
       "      <td>[[52967, 1075], [833, 5125]]</td>\n",
       "      <td>[0.9668333333333333, 0.9593333333333334, 0.967...</td>\n",
       "    </tr>\n",
       "    <tr>\n",
       "      <th>3</th>\n",
       "      <td>Number3</td>\n",
       "      <td>[True, False, False, False, False, False, Fals...</td>\n",
       "      <td>[[52096, 1773], [993, 5138]]</td>\n",
       "      <td>[0.9285833333333333, 0.94975, 0.96316666666666...</td>\n",
       "    </tr>\n",
       "    <tr>\n",
       "      <th>4</th>\n",
       "      <td>Number4</td>\n",
       "      <td>[False, False, False, False, False, False, Fal...</td>\n",
       "      <td>[[53283, 875], [823, 5019]]</td>\n",
       "      <td>[0.97825, 0.97225, 0.9630833333333333, 0.9725,...</td>\n",
       "    </tr>\n",
       "    <tr>\n",
       "      <th>5</th>\n",
       "      <td>Number5</td>\n",
       "      <td>[True, False, False, False, False, False, Fals...</td>\n",
       "      <td>[[53115, 1464], [916, 4505]]</td>\n",
       "      <td>[0.9546666666666667, 0.96975, 0.9635, 0.965333...</td>\n",
       "    </tr>\n",
       "    <tr>\n",
       "      <th>6</th>\n",
       "      <td>Number6</td>\n",
       "      <td>[False, False, False, False, False, False, Fal...</td>\n",
       "      <td>[[53580, 502], [765, 5153]]</td>\n",
       "      <td>[0.98375, 0.9740833333333333, 0.97708333333333...</td>\n",
       "    </tr>\n",
       "    <tr>\n",
       "      <th>7</th>\n",
       "      <td>Number7</td>\n",
       "      <td>[False, False, False, False, False, False, Fal...</td>\n",
       "      <td>[[53180, 555], [768, 5497]]</td>\n",
       "      <td>[0.9803333333333333, 0.9825, 0.973333333333333...</td>\n",
       "    </tr>\n",
       "    <tr>\n",
       "      <th>8</th>\n",
       "      <td>Number8</td>\n",
       "      <td>[False, False, False, False, False, False, Fal...</td>\n",
       "      <td>[[49148, 5001], [1392, 4459]]</td>\n",
       "      <td>[0.9066666666666666, 0.9383333333333334, 0.915...</td>\n",
       "    </tr>\n",
       "    <tr>\n",
       "      <th>9</th>\n",
       "      <td>Number9</td>\n",
       "      <td>[False, False, False, False, True, False, Fals...</td>\n",
       "      <td>[[52300, 1751], [1532, 4417]]</td>\n",
       "      <td>[0.9478333333333333, 0.9349166666666666, 0.942...</td>\n",
       "    </tr>\n",
       "  </tbody>\n",
       "</table>\n",
       "</div>"
      ],
      "text/plain": [
       "         0                                                  1  \\\n",
       "0  Number0  [False, True, False, False, False, False, Fals...   \n",
       "1  Number1  [False, False, False, True, False, False, True...   \n",
       "2  Number2  [False, False, False, False, False, True, Fals...   \n",
       "3  Number3  [True, False, False, False, False, False, Fals...   \n",
       "4  Number4  [False, False, False, False, False, False, Fal...   \n",
       "5  Number5  [True, False, False, False, False, False, Fals...   \n",
       "6  Number6  [False, False, False, False, False, False, Fal...   \n",
       "7  Number7  [False, False, False, False, False, False, Fal...   \n",
       "8  Number8  [False, False, False, False, False, False, Fal...   \n",
       "9  Number9  [False, False, False, False, True, False, Fals...   \n",
       "\n",
       "                               2  \\\n",
       "0    [[53729, 348], [344, 5579]]   \n",
       "1    [[53016, 242], [374, 6368]]   \n",
       "2   [[52967, 1075], [833, 5125]]   \n",
       "3   [[52096, 1773], [993, 5138]]   \n",
       "4    [[53283, 875], [823, 5019]]   \n",
       "5   [[53115, 1464], [916, 4505]]   \n",
       "6    [[53580, 502], [765, 5153]]   \n",
       "7    [[53180, 555], [768, 5497]]   \n",
       "8  [[49148, 5001], [1392, 4459]]   \n",
       "9  [[52300, 1751], [1532, 4417]]   \n",
       "\n",
       "                                                   3  \n",
       "0  [0.98925, 0.98825, 0.989, 0.98725, 0.988583333...  \n",
       "1  [0.9885833333333334, 0.99025, 0.99066666666666...  \n",
       "2  [0.9668333333333333, 0.9593333333333334, 0.967...  \n",
       "3  [0.9285833333333333, 0.94975, 0.96316666666666...  \n",
       "4  [0.97825, 0.97225, 0.9630833333333333, 0.9725,...  \n",
       "5  [0.9546666666666667, 0.96975, 0.9635, 0.965333...  \n",
       "6  [0.98375, 0.9740833333333333, 0.97708333333333...  \n",
       "7  [0.9803333333333333, 0.9825, 0.973333333333333...  \n",
       "8  [0.9066666666666666, 0.9383333333333334, 0.915...  \n",
       "9  [0.9478333333333333, 0.9349166666666666, 0.942...  "
      ]
     },
     "execution_count": 233,
     "metadata": {},
     "output_type": "execute_result"
    }
   ],
   "source": [
    "df_all_train"
   ]
  },
  {
   "cell_type": "code",
   "execution_count": null,
   "metadata": {},
   "outputs": [],
   "source": []
  }
 ],
 "metadata": {
  "kernelspec": {
   "display_name": "Python 3.9.12 ('base')",
   "language": "python",
   "name": "python3"
  },
  "language_info": {
   "codemirror_mode": {
    "name": "ipython",
    "version": 3
   },
   "file_extension": ".py",
   "mimetype": "text/x-python",
   "name": "python",
   "nbconvert_exporter": "python",
   "pygments_lexer": "ipython3",
   "version": "3.9.12 (main, Apr  5 2022, 01:53:17) \n[Clang 12.0.0 ]"
  },
  "orig_nbformat": 4,
  "vscode": {
   "interpreter": {
    "hash": "2d704a9c14a63e47be2984c875a301cfdf06b9deef3d7b2ea4277add99dfd70d"
   }
  }
 },
 "nbformat": 4,
 "nbformat_minor": 2
}
