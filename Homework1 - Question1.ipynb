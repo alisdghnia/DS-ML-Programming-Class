{
 "cells": [
  {
   "cell_type": "code",
   "execution_count": 1,
   "metadata": {},
   "outputs": [],
   "source": [
    "import sklearn\n",
    "import pandas as pd\n",
    "import numpy as np\n",
    "import matplotlib.pyplot as plt"
   ]
  },
  {
   "cell_type": "code",
   "execution_count": 2,
   "metadata": {},
   "outputs": [],
   "source": [
    "from sklearn.datasets import fetch_openml\n",
    "mnist = fetch_openml('mnist_784', version=1, as_frame=False)"
   ]
  },
  {
   "cell_type": "code",
   "execution_count": 3,
   "metadata": {},
   "outputs": [],
   "source": [
    "X, y = mnist[\"data\"], mnist[\"target\"]"
   ]
  },
  {
   "cell_type": "code",
   "execution_count": 4,
   "metadata": {},
   "outputs": [],
   "source": [
    "y = y.astype(int)"
   ]
  },
  {
   "cell_type": "code",
   "execution_count": 5,
   "metadata": {},
   "outputs": [],
   "source": [
    "X_train, X_test, y_train, y_test = X[:60000], X[60000:],y[:60000], y[60000:]"
   ]
  },
  {
   "cell_type": "code",
   "execution_count": 6,
   "metadata": {},
   "outputs": [
    {
     "data": {
      "image/png": "[encoded data removed]",
      "text/plain": [
       "<Figure size 432x288 with 1 Axes>"
      ]
     },
     "metadata": {
      "needs_background": "light"
     },
     "output_type": "display_data"
    }
   ],
   "source": [
    "some_digit = X_train[0]\n",
    "some_digit_image = some_digit.reshape(28,28)\n",
    "plt.imshow(some_digit_image)\n",
    "plt.show()"
   ]
  },
  {
   "cell_type": "code",
   "execution_count": 7,
   "metadata": {},
   "outputs": [
    {
     "name": "stdout",
     "output_type": "stream",
     "text": [
      "[5 0 4 1 9 2 1 3 1 4 3 5 3 6 1 7 2 8 6 9 4 0 9 1 1 2 4 3 2 7]\n",
      "[ True False False False False False False False False False False  True\n",
      " False False False False False False False False False False False False\n",
      " False False False False False False]\n"
     ]
    }
   ],
   "source": [
    "print(y_train[:30])\n",
    "y_train_5 = (y_train == 5) #true when a y train value is 5\n",
    "y_test_5 = (y_test == 5) #similar \n",
    "print(y_train_5[:30]) #check the before and after y values for the first 20 rows"
   ]
  },
  {
   "cell_type": "code",
   "execution_count": 8,
   "metadata": {},
   "outputs": [
    {
     "name": "stdout",
     "output_type": "stream",
     "text": [
      "{'y_train_[5]': array([ True, False, False, ...,  True, False, False]), 'y_train_[0]': array([False,  True, False, ..., False, False, False]), 'y_train_[4]': array([False, False,  True, ..., False, False, False]), 'y_train_[1]': array([False, False, False, ..., False, False, False]), 'y_train_[9]': array([False, False, False, ..., False, False, False]), 'y_train_[2]': array([False, False, False, ..., False, False, False]), 'y_train_[3]': array([False, False, False, ..., False, False, False]), 'y_train_[6]': array([False, False, False, ..., False,  True, False]), 'y_train_[7]': array([False, False, False, ..., False, False, False]), 'y_train_[8]': array([False, False, False, ..., False, False,  True])}\n",
      "dict_keys(['y_train_[5]', 'y_train_[0]', 'y_train_[4]', 'y_train_[1]', 'y_train_[9]', 'y_train_[2]', 'y_train_[3]', 'y_train_[6]', 'y_train_[7]', 'y_train_[8]'])\n"
     ]
    }
   ],
   "source": [
    "y_train_dict = {}\n",
    "for i in y_train:\n",
    "    y_train_dict['y_train_'f'{np.unique(i)}'] = np.array(y_train == i)\n",
    "\n",
    "# print(np.unique(y_train_dict.keys()))\n",
    "print(y_train_dict)\n",
    "print(y_train_dict.keys())"
   ]
  },
  {
   "cell_type": "code",
   "execution_count": 9,
   "metadata": {},
   "outputs": [
    {
     "name": "stdout",
     "output_type": "stream",
     "text": [
      "{'y_test_[7]': array([ True, False, False, ..., False, False, False]), 'y_test_[2]': array([False,  True, False, ..., False, False, False]), 'y_test_[1]': array([False, False,  True, ..., False, False, False]), 'y_test_[0]': array([False, False, False, ..., False, False, False]), 'y_test_[4]': array([False, False, False, ...,  True, False, False]), 'y_test_[9]': array([False, False, False, ..., False, False, False]), 'y_test_[5]': array([False, False, False, ..., False,  True, False]), 'y_test_[6]': array([False, False, False, ..., False, False,  True]), 'y_test_[3]': array([False, False, False, ..., False, False, False]), 'y_test_[8]': array([False, False, False, ..., False, False, False])}\n",
      "dict_keys(['y_test_[7]', 'y_test_[2]', 'y_test_[1]', 'y_test_[0]', 'y_test_[4]', 'y_test_[9]', 'y_test_[5]', 'y_test_[6]', 'y_test_[3]', 'y_test_[8]'])\n"
     ]
    }
   ],
   "source": [
    "y_test_dict = {}\n",
    "for i in y_test:\n",
    "    y_test_dict['y_test_'f'{np.unique(i)}'] = np.array(y_test == i)\n",
    "\n",
    "# print(np.unique(y_train_dict.keys()))\n",
    "print(y_test_dict)\n",
    "print(y_test_dict.keys())"
   ]
  },
  {
   "cell_type": "code",
   "execution_count": 10,
   "metadata": {},
   "outputs": [],
   "source": [
    "from typing import OrderedDict\n",
    "\n",
    "\n",
    "dict1 = OrderedDict(sorted(y_train_dict.items()))\n",
    "dict2 = OrderedDict(sorted(y_test_dict.items()))"
   ]
  },
  {
   "cell_type": "code",
   "execution_count": 11,
   "metadata": {},
   "outputs": [
    {
     "data": {
      "text/plain": [
       "SGDClassifier(random_state=42)"
      ]
     },
     "execution_count": 11,
     "metadata": {},
     "output_type": "execute_result"
    }
   ],
   "source": [
    "from sklearn.linear_model import SGDClassifier\n",
    "sgd_clf = SGDClassifier(max_iter=1000, tol=1e-3, random_state=42)\n",
    "sgd_clf.fit(X_train, y_train_5)"
   ]
  },
  {
   "cell_type": "code",
   "execution_count": 12,
   "metadata": {},
   "outputs": [
    {
     "name": "stdout",
     "output_type": "stream",
     "text": [
      "Number0\n",
      "[False False False ... False False False]\n",
      "[[8912  108]\n",
      " [  56  924]]\n",
      "[0.9845 0.985  0.983  0.9905 0.975 ]\n",
      "Number1\n",
      "[False False  True ... False False False]\n",
      "[[8816   49]\n",
      " [  75 1060]]\n",
      "[0.99   0.9855 0.991  0.986  0.9855]\n",
      "Number2\n",
      "[False  True False ... False False False]\n",
      "[[8663  305]\n",
      " [ 134  898]]\n",
      "[0.947  0.945  0.9465 0.97   0.972 ]\n",
      "Number3\n",
      "[False False False ... False False False]\n",
      "[[8731  259]\n",
      " [ 188  822]]\n",
      "[0.9635 0.944  0.9515 0.9585 0.959 ]\n",
      "Number4\n",
      "[False False False ...  True False False]\n",
      "[[8864  154]\n",
      " [ 124  858]]\n",
      "[0.969  0.9715 0.965  0.9755 0.98  ]\n",
      "Number5\n",
      "[False False False ... False  True False]\n",
      "[[8919  189]\n",
      " [ 197  695]]\n",
      "[0.9575 0.95   0.9645 0.963  0.972 ]\n",
      "Number6\n",
      "[False False False ... False False  True]\n",
      "[[8915  127]\n",
      " [  86  872]]\n",
      "[0.971  0.9755 0.981  0.9855 0.9805]\n",
      "Number7\n",
      "[ True False False ... False False False]\n",
      "[[8846  126]\n",
      " [ 145  883]]\n",
      "[0.961  0.9635 0.977  0.9845 0.9785]\n",
      "Number8\n",
      "[False False False ... False False False]\n",
      "[[8421  605]\n",
      " [ 323  651]]\n",
      "[0.872  0.9255 0.9185 0.882  0.938 ]\n",
      "Number9\n",
      "[False False False ... False False False]\n",
      "[[8487  504]\n",
      " [ 216  793]]\n",
      "[0.895  0.927  0.942  0.9415 0.9345]\n"
     ]
    }
   ],
   "source": [
    "from sklearn.model_selection import cross_val_predict\n",
    "from sklearn.model_selection import cross_val_score\n",
    "from sklearn import metrics\n",
    "\n",
    "df = []\n",
    "for i in range(0,10):\n",
    "    # print('y_train_'f'{[i]}' ,y_train_dict['y_train_'f'{[i]}'])\n",
    "    sgd_clf = SGDClassifier(max_iter=1000, tol=1e-3, random_state=42)\n",
    "    sgd_clf.fit(X_train, y_train_dict['y_train_'f'{[i]}'])\n",
    "    # sgd_clf.predict(X_test[0:25])\n",
    "    # print(y_train_dict)\n",
    "    # y_train_pred = cross_val_predict(sgd_clf, X_train, y_train_dict['y_train_'f'{[i]}'], cv=5)\n",
    "    y_test_pred = cross_val_predict(sgd_clf, X_test, dict2['y_test_'f'{[i]}'], cv=5)\n",
    "    print('Number'f'{i}')\n",
    "    print(y_test_pred)\n",
    "    print(metrics.confusion_matrix(dict2['y_test_'f'{[i]}'], y_test_pred))\n",
    "    print(cross_val_score(sgd_clf, X_test, dict2['y_test_'f'{[i]}'], cv=5, scoring=\"accuracy\"))\n",
    "    number = 'Number'f'{i}'\n",
    "    prediction = y_test_pred\n",
    "    confusion_matrix = metrics.confusion_matrix(dict2['y_test_'f'{[i]}'], y_test_pred)\n",
    "    accuracy = cross_val_score(sgd_clf, X_test, dict2['y_test_'f'{[i]}'], cv=5, scoring=\"accuracy\")\n",
    "    df.append([number, prediction, confusion_matrix, accuracy])\n",
    "\n",
    "df_all_test = pd.DataFrame(df)"
   ]
  },
  {
   "cell_type": "code",
   "execution_count": 13,
   "metadata": {},
   "outputs": [],
   "source": [
    "test_df = df_all_test.rename(columns= {0: 'Num', 1: 'Prediction', 2: 'Confusion Matrix', 3: 'CV Accuracy'})"
   ]
  },
  {
   "cell_type": "code",
   "execution_count": 14,
   "metadata": {},
   "outputs": [
    {
     "data": {
      "text/html": [
       "<div>\n",
       "<style scoped>\n",
       "    .dataframe tbody tr th:only-of-type {\n",
       "        vertical-align: middle;\n",
       "    }\n",
       "\n",
       "    .dataframe tbody tr th {\n",
       "        vertical-align: top;\n",
       "    }\n",
       "\n",
       "    .dataframe thead th {\n",
       "        text-align: right;\n",
       "    }\n",
       "</style>\n",
       "<table border=\"1\" class=\"dataframe\">\n",
       "  <thead>\n",
       "    <tr style=\"text-align: right;\">\n",
       "      <th></th>\n",
       "      <th>Num</th>\n",
       "      <th>Prediction</th>\n",
       "      <th>Confusion Matrix</th>\n",
       "      <th>CV Accuracy</th>\n",
       "    </tr>\n",
       "  </thead>\n",
       "  <tbody>\n",
       "    <tr>\n",
       "      <th>0</th>\n",
       "      <td>Number0</td>\n",
       "      <td>[False, False, False, True, False, False, Fals...</td>\n",
       "      <td>[[8912, 108], [56, 924]]</td>\n",
       "      <td>[0.9845, 0.985, 0.983, 0.9905, 0.975]</td>\n",
       "    </tr>\n",
       "    <tr>\n",
       "      <th>1</th>\n",
       "      <td>Number1</td>\n",
       "      <td>[False, False, True, False, False, True, False...</td>\n",
       "      <td>[[8816, 49], [75, 1060]]</td>\n",
       "      <td>[0.99, 0.9855, 0.991, 0.986, 0.9855]</td>\n",
       "    </tr>\n",
       "    <tr>\n",
       "      <th>2</th>\n",
       "      <td>Number2</td>\n",
       "      <td>[False, True, False, False, False, False, Fals...</td>\n",
       "      <td>[[8663, 305], [134, 898]]</td>\n",
       "      <td>[0.947, 0.945, 0.9465, 0.97, 0.972]</td>\n",
       "    </tr>\n",
       "    <tr>\n",
       "      <th>3</th>\n",
       "      <td>Number3</td>\n",
       "      <td>[False, False, False, False, False, False, Fal...</td>\n",
       "      <td>[[8731, 259], [188, 822]]</td>\n",
       "      <td>[0.9635, 0.944, 0.9515, 0.9585, 0.959]</td>\n",
       "    </tr>\n",
       "    <tr>\n",
       "      <th>4</th>\n",
       "      <td>Number4</td>\n",
       "      <td>[False, False, False, False, True, False, Fals...</td>\n",
       "      <td>[[8864, 154], [124, 858]]</td>\n",
       "      <td>[0.969, 0.9715, 0.965, 0.9755, 0.98]</td>\n",
       "    </tr>\n",
       "    <tr>\n",
       "      <th>5</th>\n",
       "      <td>Number5</td>\n",
       "      <td>[False, False, False, False, False, False, Fal...</td>\n",
       "      <td>[[8919, 189], [197, 695]]</td>\n",
       "      <td>[0.9575, 0.95, 0.9645, 0.963, 0.972]</td>\n",
       "    </tr>\n",
       "    <tr>\n",
       "      <th>6</th>\n",
       "      <td>Number6</td>\n",
       "      <td>[False, False, False, False, False, False, Fal...</td>\n",
       "      <td>[[8915, 127], [86, 872]]</td>\n",
       "      <td>[0.971, 0.9755, 0.981, 0.9855, 0.9805]</td>\n",
       "    </tr>\n",
       "    <tr>\n",
       "      <th>7</th>\n",
       "      <td>Number7</td>\n",
       "      <td>[True, False, False, False, False, False, Fals...</td>\n",
       "      <td>[[8846, 126], [145, 883]]</td>\n",
       "      <td>[0.961, 0.9635, 0.977, 0.9845, 0.9785]</td>\n",
       "    </tr>\n",
       "    <tr>\n",
       "      <th>8</th>\n",
       "      <td>Number8</td>\n",
       "      <td>[False, False, False, False, False, False, Tru...</td>\n",
       "      <td>[[8421, 605], [323, 651]]</td>\n",
       "      <td>[0.872, 0.9255, 0.9185, 0.882, 0.938]</td>\n",
       "    </tr>\n",
       "    <tr>\n",
       "      <th>9</th>\n",
       "      <td>Number9</td>\n",
       "      <td>[False, False, False, False, False, False, Fal...</td>\n",
       "      <td>[[8487, 504], [216, 793]]</td>\n",
       "      <td>[0.895, 0.927, 0.942, 0.9415, 0.9345]</td>\n",
       "    </tr>\n",
       "  </tbody>\n",
       "</table>\n",
       "</div>"
      ],
      "text/plain": [
       "       Num                                         Prediction  \\\n",
       "0  Number0  [False, False, False, True, False, False, Fals...   \n",
       "1  Number1  [False, False, True, False, False, True, False...   \n",
       "2  Number2  [False, True, False, False, False, False, Fals...   \n",
       "3  Number3  [False, False, False, False, False, False, Fal...   \n",
       "4  Number4  [False, False, False, False, True, False, Fals...   \n",
       "5  Number5  [False, False, False, False, False, False, Fal...   \n",
       "6  Number6  [False, False, False, False, False, False, Fal...   \n",
       "7  Number7  [True, False, False, False, False, False, Fals...   \n",
       "8  Number8  [False, False, False, False, False, False, Tru...   \n",
       "9  Number9  [False, False, False, False, False, False, Fal...   \n",
       "\n",
       "            Confusion Matrix                             CV Accuracy  \n",
       "0   [[8912, 108], [56, 924]]   [0.9845, 0.985, 0.983, 0.9905, 0.975]  \n",
       "1   [[8816, 49], [75, 1060]]    [0.99, 0.9855, 0.991, 0.986, 0.9855]  \n",
       "2  [[8663, 305], [134, 898]]     [0.947, 0.945, 0.9465, 0.97, 0.972]  \n",
       "3  [[8731, 259], [188, 822]]  [0.9635, 0.944, 0.9515, 0.9585, 0.959]  \n",
       "4  [[8864, 154], [124, 858]]    [0.969, 0.9715, 0.965, 0.9755, 0.98]  \n",
       "5  [[8919, 189], [197, 695]]    [0.9575, 0.95, 0.9645, 0.963, 0.972]  \n",
       "6   [[8915, 127], [86, 872]]  [0.971, 0.9755, 0.981, 0.9855, 0.9805]  \n",
       "7  [[8846, 126], [145, 883]]  [0.961, 0.9635, 0.977, 0.9845, 0.9785]  \n",
       "8  [[8421, 605], [323, 651]]   [0.872, 0.9255, 0.9185, 0.882, 0.938]  \n",
       "9  [[8487, 504], [216, 793]]   [0.895, 0.927, 0.942, 0.9415, 0.9345]  "
      ]
     },
     "execution_count": 14,
     "metadata": {},
     "output_type": "execute_result"
    }
   ],
   "source": [
    "test_df"
   ]
  },
  {
   "cell_type": "code",
   "execution_count": null,
   "metadata": {},
   "outputs": [],
   "source": [
    "import os\n",
    "os.chdir('/Users/alisdghnia/Desktop/')\n",
    "test_df.to_csv('HW1 Q3 Test Dataset.csv')"
   ]
  },
  {
   "cell_type": "code",
   "execution_count": 19,
   "metadata": {},
   "outputs": [],
   "source": [
    "from sklearn.metrics import accuracy_score"
   ]
  },
  {
   "cell_type": "code",
   "execution_count": 34,
   "metadata": {},
   "outputs": [
    {
     "data": {
      "text/plain": [
       "{1: 0.9679, 2: 0.9318, 3: 0.9418, 4: 0.9661, 5: 0.9678}"
      ]
     },
     "execution_count": 34,
     "metadata": {},
     "output_type": "execute_result"
    }
   ],
   "source": [
    "accuracy_dict = {}\n",
    "for i in range(1,6):\n",
    "    sgd_clf = SGDClassifier(max_iter=1000, tol=1e-3)\n",
    "    sgd_clf.fit(X_train, y_train_5)\n",
    "    accuracy_dict[i] = accuracy_score(y_test_5, sgd_clf.predict(X_test))\n",
    "\n",
    "accuracy_dict"
   ]
  },
  {
   "cell_type": "code",
   "execution_count": 42,
   "metadata": {},
   "outputs": [
    {
     "data": {
      "text/plain": [
       "[0.9679, 0.9318, 0.9418, 0.9661, 0.9678]"
      ]
     },
     "execution_count": 42,
     "metadata": {},
     "output_type": "execute_result"
    }
   ],
   "source": [
    "list = []\n",
    "for item in accuracy_dict.items():\n",
    "    list.append(item[1])\n",
    "\n",
    "list"
   ]
  },
  {
   "cell_type": "code",
   "execution_count": 43,
   "metadata": {},
   "outputs": [],
   "source": [
    "avg_accuracy_random_resampling = np.mean(list)"
   ]
  },
  {
   "cell_type": "code",
   "execution_count": 44,
   "metadata": {},
   "outputs": [
    {
     "data": {
      "text/plain": [
       "0.9550799999999999"
      ]
     },
     "execution_count": 44,
     "metadata": {},
     "output_type": "execute_result"
    }
   ],
   "source": [
    "avg_accuracy_random_resampling"
   ]
  },
  {
   "cell_type": "code",
   "execution_count": 45,
   "metadata": {},
   "outputs": [],
   "source": [
    "avg_accuracy_cv = np.mean(test_df['CV Accuracy'][5])"
   ]
  },
  {
   "cell_type": "code",
   "execution_count": 46,
   "metadata": {},
   "outputs": [
    {
     "data": {
      "text/plain": [
       "0.9614"
      ]
     },
     "execution_count": 46,
     "metadata": {},
     "output_type": "execute_result"
    }
   ],
   "source": [
    "avg_accuracy_cv"
   ]
  },
  {
   "cell_type": "markdown",
   "metadata": {},
   "source": [
    "Question 1:\n",
    "\n",
    "    test_df table\n",
    "\n",
    "    Number 8 confusion matrix is showing to have been the hardest number to predict!!!\n",
    "\n",
    "Question 2:\n",
    "\n",
    "    avg_accuracy_cv > avg_accuracy_random_resampling"
   ]
  },
  {
   "cell_type": "code",
   "execution_count": 19,
   "metadata": {},
   "outputs": [],
   "source": [
    "from sklearn.preprocessing import StandardScaler\n",
    "scaler = StandardScaler()\n",
    "X_train_scaled = scaler.fit_transform(X_train.astype(int))"
   ]
  },
  {
   "cell_type": "code",
   "execution_count": 20,
   "metadata": {},
   "outputs": [],
   "source": [
    "from sklearn.model_selection import cross_val_predict\n",
    "from sklearn.model_selection import cross_val_score\n",
    "from sklearn import metrics"
   ]
  },
  {
   "cell_type": "code",
   "execution_count": 21,
   "metadata": {},
   "outputs": [],
   "source": [
    "y_train_pred = cross_val_predict(sgd_clf, X_train_scaled, y_train, cv=5)\n",
    "big_confusion_matrix = metrics.confusion_matrix(y_train, y_train_pred)\n",
    "big_confusion_matrix"
   ]
  },
  {
   "cell_type": "markdown",
   "metadata": {},
   "source": [
    "Question 3:\n",
    "\n",
    "    Should get similar result!"
   ]
  }
 ],
 "metadata": {
  "kernelspec": {
   "display_name": "Python 3.9.12 ('base')",
   "language": "python",
   "name": "python3"
  },
  "language_info": {
   "codemirror_mode": {
    "name": "ipython",
    "version": 3
   },
   "file_extension": ".py",
   "mimetype": "text/x-python",
   "name": "python",
   "nbconvert_exporter": "python",
   "pygments_lexer": "ipython3",
   "version": "3.9.12"
  },
  "orig_nbformat": 4,
  "vscode": {
   "interpreter": {
    "hash": "2d704a9c14a63e47be2984c875a301cfdf06b9deef3d7b2ea4277add99dfd70d"
   }
  }
 },
 "nbformat": 4,
 "nbformat_minor": 2
}
