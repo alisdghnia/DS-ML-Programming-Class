{
  "cells": [
    {
      "cell_type": "code",
      "execution_count": 23,
      "metadata": {
        "id": "7-1mX-KPjupR"
      },
      "outputs": [],
      "source": [
        "import pandas as pd\n",
        "import numpy as np\n",
        "import os\n",
        "import tensorflow as tf"
      ]
    },
    {
      "cell_type": "markdown",
      "metadata": {
        "id": "he5lKBqljupS"
      },
      "source": [
        "# QUESTION 1 (3 pts):\n",
        "\n",
        "### What is the main benefit of neural network based predictive models over traditional symbolic machine learning models such as decision trees for example?\n",
        "### What is it that a “deep” neural network can do that a “shallow” (3 layer input-hidden-output) cannot do?\n",
        "\n",
        "\n",
        "with neural network based predictive models we can build models of more complexity to more accurately learn and predict from the data. With traditional symbolic machine learning models we cannot build as complex of a model to do predictions on datasets with many variables.typically the more complex a dataset is, the better it is to utilize NN models in order to getter better and more accurate predictions. However, it could be costly, therefore, traditional symbolic machine learning models are still very important as there are still problems that can be solved using ml models like decision tree that would be far less expensive.\n",
        "\n",
        "\n",
        "Deep neural network can take in account more complexity than shallow neural network models. For instance, a deep neural network will typically have many more hidden layers in the hidden part of the architecture where each hidden layer will be able to understand and learn a specific part of the dataset (like a straight line and a curved line difference in a CNN model). However, shallow neural network models that consist of fewer hidden layers in the hidden part of the architecture will be only dealing with calculating much more straight forward when it comes to the weights. and they are mainly used for less complex problems that need to be solved (complexity != importance). for instance, shallow NN can be more cost and time efficient and some problems that need to be solved are not so complicated like a picture to be recognized (it could be maybe bank account and habit spendings of a person that the model needs to predict with high accuracy whether the person is worthy of a certain loan or not)"
      ]
    },
    {
      "cell_type": "markdown",
      "metadata": {
        "id": "FUXntrNKjupX"
      },
      "source": [
        "# QUESTION 2 (3 pts):\n",
        "\n",
        "## For approximately the same number of neurons, is it “better” to have a shallow (e.g. three layer) neural network with many nodes per layer, or is it “better” to have more layers of neurons, but fewer neurons per layer? That is, for example, can you keep one hidden layer of 200 neurons, or three hidden layers of say, 50, 100, and 50 neurons (also adding up to 200). Use the housing dataset (predicting ocean_proximity) and MLP classifiers (not keras) to answer this question. You do not need to go with 200, I justed used that as an example to illustrate the question."
      ]
    },
    {
      "cell_type": "code",
      "execution_count": 7,
      "metadata": {
        "id": "OLzgDlS6jupY"
      },
      "outputs": [],
      "source": [
        "housing = pd.read_csv('housing.csv')"
      ]
    },
    {
      "cell_type": "code",
      "execution_count": 8,
      "metadata": {
        "colab": {
          "base_uri": "https://localhost:8080/"
        },
        "id": "qDB3igHgjupY",
        "outputId": "0c9b2a4b-678e-42f1-fd10-ffbdb40a7ad9"
      },
      "outputs": [
        {
          "output_type": "execute_result",
          "data": {
            "text/plain": [
              "array(['<1H OCEAN', 'INLAND', 'ISLAND', 'NEAR BAY', 'NEAR OCEAN'],\n",
              "      dtype=object)"
            ]
          },
          "metadata": {},
          "execution_count": 8
        }
      ],
      "source": [
        "np.unique(housing['ocean_proximity'])"
      ]
    },
    {
      "cell_type": "code",
      "execution_count": 9,
      "metadata": {
        "colab": {
          "base_uri": "https://localhost:8080/"
        },
        "id": "D6_0gv7FjupY",
        "outputId": "e979dec7-ffb8-4daa-e55e-d2ecb7471d35"
      },
      "outputs": [
        {
          "output_type": "stream",
          "name": "stdout",
          "text": [
            "<class 'pandas.core.frame.DataFrame'>\n",
            "RangeIndex: 20640 entries, 0 to 20639\n",
            "Data columns (total 10 columns):\n",
            " #   Column              Non-Null Count  Dtype  \n",
            "---  ------              --------------  -----  \n",
            " 0   longitude           20640 non-null  float64\n",
            " 1   latitude            20640 non-null  float64\n",
            " 2   housing_median_age  20640 non-null  float64\n",
            " 3   total_rooms         20640 non-null  float64\n",
            " 4   total_bedrooms      20433 non-null  float64\n",
            " 5   population          20640 non-null  float64\n",
            " 6   households          20640 non-null  float64\n",
            " 7   median_income       20640 non-null  float64\n",
            " 8   median_house_value  20640 non-null  float64\n",
            " 9   ocean_proximity     20640 non-null  object \n",
            "dtypes: float64(9), object(1)\n",
            "memory usage: 1.6+ MB\n"
          ]
        }
      ],
      "source": [
        "housing.info()"
      ]
    },
    {
      "cell_type": "code",
      "execution_count": 10,
      "metadata": {
        "id": "vqlWX6fcjupY"
      },
      "outputs": [],
      "source": [
        "housing.dropna(axis = 0, inplace= True)"
      ]
    },
    {
      "cell_type": "code",
      "execution_count": 11,
      "metadata": {
        "id": "Fbf0PnErjupY"
      },
      "outputs": [],
      "source": [
        "from sklearn.model_selection import train_test_split\n",
        "from sklearn.neural_network import MLPClassifier\n",
        "from sklearn.metrics import confusion_matrix\n",
        "from sklearn.metrics import accuracy_score"
      ]
    },
    {
      "cell_type": "code",
      "execution_count": 12,
      "metadata": {
        "colab": {
          "base_uri": "https://localhost:8080/",
          "height": 424
        },
        "id": "VXnhHQ5IjupY",
        "outputId": "80d2c09b-c68c-4c89-d8f4-57123c3d32d1"
      },
      "outputs": [
        {
          "output_type": "execute_result",
          "data": {
            "text/plain": [
              "       longitude  latitude  housing_median_age  total_rooms  total_bedrooms  \\\n",
              "0        -122.23     37.88                41.0        880.0           129.0   \n",
              "1        -122.22     37.86                21.0       7099.0          1106.0   \n",
              "2        -122.24     37.85                52.0       1467.0           190.0   \n",
              "3        -122.25     37.85                52.0       1274.0           235.0   \n",
              "4        -122.25     37.85                52.0       1627.0           280.0   \n",
              "...          ...       ...                 ...          ...             ...   \n",
              "20635    -121.09     39.48                25.0       1665.0           374.0   \n",
              "20636    -121.21     39.49                18.0        697.0           150.0   \n",
              "20637    -121.22     39.43                17.0       2254.0           485.0   \n",
              "20638    -121.32     39.43                18.0       1860.0           409.0   \n",
              "20639    -121.24     39.37                16.0       2785.0           616.0   \n",
              "\n",
              "       population  households  median_income  median_house_value  \n",
              "0           322.0       126.0         8.3252            452600.0  \n",
              "1          2401.0      1138.0         8.3014            358500.0  \n",
              "2           496.0       177.0         7.2574            352100.0  \n",
              "3           558.0       219.0         5.6431            341300.0  \n",
              "4           565.0       259.0         3.8462            342200.0  \n",
              "...           ...         ...            ...                 ...  \n",
              "20635       845.0       330.0         1.5603             78100.0  \n",
              "20636       356.0       114.0         2.5568             77100.0  \n",
              "20637      1007.0       433.0         1.7000             92300.0  \n",
              "20638       741.0       349.0         1.8672             84700.0  \n",
              "20639      1387.0       530.0         2.3886             89400.0  \n",
              "\n",
              "[20433 rows x 9 columns]"
            ],
            "text/html": [
              "\n",
              "  <div id=\"df-85ae1568-1d30-4f16-bd8a-6f18c11ca88f\">\n",
              "    <div class=\"colab-df-container\">\n",
              "      <div>\n",
              "<style scoped>\n",
              "    .dataframe tbody tr th:only-of-type {\n",
              "        vertical-align: middle;\n",
              "    }\n",
              "\n",
              "    .dataframe tbody tr th {\n",
              "        vertical-align: top;\n",
              "    }\n",
              "\n",
              "    .dataframe thead th {\n",
              "        text-align: right;\n",
              "    }\n",
              "</style>\n",
              "<table border=\"1\" class=\"dataframe\">\n",
              "  <thead>\n",
              "    <tr style=\"text-align: right;\">\n",
              "      <th></th>\n",
              "      <th>longitude</th>\n",
              "      <th>latitude</th>\n",
              "      <th>housing_median_age</th>\n",
              "      <th>total_rooms</th>\n",
              "      <th>total_bedrooms</th>\n",
              "      <th>population</th>\n",
              "      <th>households</th>\n",
              "      <th>median_income</th>\n",
              "      <th>median_house_value</th>\n",
              "    </tr>\n",
              "  </thead>\n",
              "  <tbody>\n",
              "    <tr>\n",
              "      <th>0</th>\n",
              "      <td>-122.23</td>\n",
              "      <td>37.88</td>\n",
              "      <td>41.0</td>\n",
              "      <td>880.0</td>\n",
              "      <td>129.0</td>\n",
              "      <td>322.0</td>\n",
              "      <td>126.0</td>\n",
              "      <td>8.3252</td>\n",
              "      <td>452600.0</td>\n",
              "    </tr>\n",
              "    <tr>\n",
              "      <th>1</th>\n",
              "      <td>-122.22</td>\n",
              "      <td>37.86</td>\n",
              "      <td>21.0</td>\n",
              "      <td>7099.0</td>\n",
              "      <td>1106.0</td>\n",
              "      <td>2401.0</td>\n",
              "      <td>1138.0</td>\n",
              "      <td>8.3014</td>\n",
              "      <td>358500.0</td>\n",
              "    </tr>\n",
              "    <tr>\n",
              "      <th>2</th>\n",
              "      <td>-122.24</td>\n",
              "      <td>37.85</td>\n",
              "      <td>52.0</td>\n",
              "      <td>1467.0</td>\n",
              "      <td>190.0</td>\n",
              "      <td>496.0</td>\n",
              "      <td>177.0</td>\n",
              "      <td>7.2574</td>\n",
              "      <td>352100.0</td>\n",
              "    </tr>\n",
              "    <tr>\n",
              "      <th>3</th>\n",
              "      <td>-122.25</td>\n",
              "      <td>37.85</td>\n",
              "      <td>52.0</td>\n",
              "      <td>1274.0</td>\n",
              "      <td>235.0</td>\n",
              "      <td>558.0</td>\n",
              "      <td>219.0</td>\n",
              "      <td>5.6431</td>\n",
              "      <td>341300.0</td>\n",
              "    </tr>\n",
              "    <tr>\n",
              "      <th>4</th>\n",
              "      <td>-122.25</td>\n",
              "      <td>37.85</td>\n",
              "      <td>52.0</td>\n",
              "      <td>1627.0</td>\n",
              "      <td>280.0</td>\n",
              "      <td>565.0</td>\n",
              "      <td>259.0</td>\n",
              "      <td>3.8462</td>\n",
              "      <td>342200.0</td>\n",
              "    </tr>\n",
              "    <tr>\n",
              "      <th>...</th>\n",
              "      <td>...</td>\n",
              "      <td>...</td>\n",
              "      <td>...</td>\n",
              "      <td>...</td>\n",
              "      <td>...</td>\n",
              "      <td>...</td>\n",
              "      <td>...</td>\n",
              "      <td>...</td>\n",
              "      <td>...</td>\n",
              "    </tr>\n",
              "    <tr>\n",
              "      <th>20635</th>\n",
              "      <td>-121.09</td>\n",
              "      <td>39.48</td>\n",
              "      <td>25.0</td>\n",
              "      <td>1665.0</td>\n",
              "      <td>374.0</td>\n",
              "      <td>845.0</td>\n",
              "      <td>330.0</td>\n",
              "      <td>1.5603</td>\n",
              "      <td>78100.0</td>\n",
              "    </tr>\n",
              "    <tr>\n",
              "      <th>20636</th>\n",
              "      <td>-121.21</td>\n",
              "      <td>39.49</td>\n",
              "      <td>18.0</td>\n",
              "      <td>697.0</td>\n",
              "      <td>150.0</td>\n",
              "      <td>356.0</td>\n",
              "      <td>114.0</td>\n",
              "      <td>2.5568</td>\n",
              "      <td>77100.0</td>\n",
              "    </tr>\n",
              "    <tr>\n",
              "      <th>20637</th>\n",
              "      <td>-121.22</td>\n",
              "      <td>39.43</td>\n",
              "      <td>17.0</td>\n",
              "      <td>2254.0</td>\n",
              "      <td>485.0</td>\n",
              "      <td>1007.0</td>\n",
              "      <td>433.0</td>\n",
              "      <td>1.7000</td>\n",
              "      <td>92300.0</td>\n",
              "    </tr>\n",
              "    <tr>\n",
              "      <th>20638</th>\n",
              "      <td>-121.32</td>\n",
              "      <td>39.43</td>\n",
              "      <td>18.0</td>\n",
              "      <td>1860.0</td>\n",
              "      <td>409.0</td>\n",
              "      <td>741.0</td>\n",
              "      <td>349.0</td>\n",
              "      <td>1.8672</td>\n",
              "      <td>84700.0</td>\n",
              "    </tr>\n",
              "    <tr>\n",
              "      <th>20639</th>\n",
              "      <td>-121.24</td>\n",
              "      <td>39.37</td>\n",
              "      <td>16.0</td>\n",
              "      <td>2785.0</td>\n",
              "      <td>616.0</td>\n",
              "      <td>1387.0</td>\n",
              "      <td>530.0</td>\n",
              "      <td>2.3886</td>\n",
              "      <td>89400.0</td>\n",
              "    </tr>\n",
              "  </tbody>\n",
              "</table>\n",
              "<p>20433 rows × 9 columns</p>\n",
              "</div>\n",
              "      <button class=\"colab-df-convert\" onclick=\"convertToInteractive('df-85ae1568-1d30-4f16-bd8a-6f18c11ca88f')\"\n",
              "              title=\"Convert this dataframe to an interactive table.\"\n",
              "              style=\"display:none;\">\n",
              "        \n",
              "  <svg xmlns=\"http://www.w3.org/2000/svg\" height=\"24px\"viewBox=\"0 0 24 24\"\n",
              "       width=\"24px\">\n",
              "    <path d=\"M0 0h24v24H0V0z\" fill=\"none\"/>\n",
              "    <path d=\"M18.56 5.44l.94 2.06.94-2.06 2.06-.94-2.06-.94-.94-2.06-.94 2.06-2.06.94zm-11 1L8.5 8.5l.94-2.06 2.06-.94-2.06-.94L8.5 2.5l-.94 2.06-2.06.94zm10 10l.94 2.06.94-2.06 2.06-.94-2.06-.94-.94-2.06-.94 2.06-2.06.94z\"/><path d=\"M17.41 7.96l-1.37-1.37c-.4-.4-.92-.59-1.43-.59-.52 0-1.04.2-1.43.59L10.3 9.45l-7.72 7.72c-.78.78-.78 2.05 0 2.83L4 21.41c.39.39.9.59 1.41.59.51 0 1.02-.2 1.41-.59l7.78-7.78 2.81-2.81c.8-.78.8-2.07 0-2.86zM5.41 20L4 18.59l7.72-7.72 1.47 1.35L5.41 20z\"/>\n",
              "  </svg>\n",
              "      </button>\n",
              "      \n",
              "  <style>\n",
              "    .colab-df-container {\n",
              "      display:flex;\n",
              "      flex-wrap:wrap;\n",
              "      gap: 12px;\n",
              "    }\n",
              "\n",
              "    .colab-df-convert {\n",
              "      background-color: #E8F0FE;\n",
              "      border: none;\n",
              "      border-radius: 50%;\n",
              "      cursor: pointer;\n",
              "      display: none;\n",
              "      fill: #1967D2;\n",
              "      height: 32px;\n",
              "      padding: 0 0 0 0;\n",
              "      width: 32px;\n",
              "    }\n",
              "\n",
              "    .colab-df-convert:hover {\n",
              "      background-color: #E2EBFA;\n",
              "      box-shadow: 0px 1px 2px rgba(60, 64, 67, 0.3), 0px 1px 3px 1px rgba(60, 64, 67, 0.15);\n",
              "      fill: #174EA6;\n",
              "    }\n",
              "\n",
              "    [theme=dark] .colab-df-convert {\n",
              "      background-color: #3B4455;\n",
              "      fill: #D2E3FC;\n",
              "    }\n",
              "\n",
              "    [theme=dark] .colab-df-convert:hover {\n",
              "      background-color: #434B5C;\n",
              "      box-shadow: 0px 1px 3px 1px rgba(0, 0, 0, 0.15);\n",
              "      filter: drop-shadow(0px 1px 2px rgba(0, 0, 0, 0.3));\n",
              "      fill: #FFFFFF;\n",
              "    }\n",
              "  </style>\n",
              "\n",
              "      <script>\n",
              "        const buttonEl =\n",
              "          document.querySelector('#df-85ae1568-1d30-4f16-bd8a-6f18c11ca88f button.colab-df-convert');\n",
              "        buttonEl.style.display =\n",
              "          google.colab.kernel.accessAllowed ? 'block' : 'none';\n",
              "\n",
              "        async function convertToInteractive(key) {\n",
              "          const element = document.querySelector('#df-85ae1568-1d30-4f16-bd8a-6f18c11ca88f');\n",
              "          const dataTable =\n",
              "            await google.colab.kernel.invokeFunction('convertToInteractive',\n",
              "                                                     [key], {});\n",
              "          if (!dataTable) return;\n",
              "\n",
              "          const docLinkHtml = 'Like what you see? Visit the ' +\n",
              "            '<a target=\"_blank\" href=https://colab.research.google.com/notebooks/data_table.ipynb>data table notebook</a>'\n",
              "            + ' to learn more about interactive tables.';\n",
              "          element.innerHTML = '';\n",
              "          dataTable['output_type'] = 'display_data';\n",
              "          await google.colab.output.renderOutput(dataTable, element);\n",
              "          const docLink = document.createElement('div');\n",
              "          docLink.innerHTML = docLinkHtml;\n",
              "          element.appendChild(docLink);\n",
              "        }\n",
              "      </script>\n",
              "    </div>\n",
              "  </div>\n",
              "  "
            ]
          },
          "metadata": {},
          "execution_count": 12
        }
      ],
      "source": [
        "housing.iloc[:, 0:9]"
      ]
    },
    {
      "cell_type": "code",
      "execution_count": 13,
      "metadata": {
        "id": "GZHhTnNpjupZ"
      },
      "outputs": [],
      "source": [
        "X = housing.iloc[:, 0:9]\n",
        "y = housing['ocean_proximity']"
      ]
    },
    {
      "cell_type": "code",
      "execution_count": 14,
      "metadata": {
        "id": "mTLrF9VYjupZ"
      },
      "outputs": [],
      "source": [
        "from sklearn.preprocessing import StandardScaler\n",
        "from sklearn.preprocessing import OrdinalEncoder"
      ]
    },
    {
      "cell_type": "code",
      "execution_count": 15,
      "metadata": {
        "id": "HtZCAD8njupZ"
      },
      "outputs": [],
      "source": [
        "scaler = StandardScaler()\n",
        "X_scaled = scaler.fit_transform(X)"
      ]
    },
    {
      "cell_type": "code",
      "execution_count": 16,
      "metadata": {
        "colab": {
          "base_uri": "https://localhost:8080/"
        },
        "id": "wTuIvstfjupZ",
        "outputId": "290cbf3d-a4a0-4afb-c7ce-2685728229c6"
      },
      "outputs": [
        {
          "output_type": "execute_result",
          "data": {
            "text/plain": [
              "array([[-1.32731375,  1.05171726,  0.98216331, ..., -0.97683327,\n",
              "         2.34516291,  2.12881864],\n",
              "       [-1.32232256,  1.04235526, -0.60621017, ...,  1.67037262,\n",
              "         2.33263161,  1.31362603],\n",
              "       [-1.33230494,  1.03767426,  1.85576873, ..., -0.84342665,\n",
              "         1.78293943,  1.25818254],\n",
              "       ...,\n",
              "       [-0.82320322,  1.77727236, -0.92388486, ..., -0.17377773,\n",
              "        -1.14317103, -0.99247676],\n",
              "       [-0.87311515,  1.77727236, -0.84446619, ..., -0.39350628,\n",
              "        -1.05513604, -1.05831591],\n",
              "       [-0.83318561,  1.74918635, -1.00330353, ...,  0.07995643,\n",
              "        -0.78060586, -1.01759959]])"
            ]
          },
          "metadata": {},
          "execution_count": 16
        }
      ],
      "source": [
        "X_scaled"
      ]
    },
    {
      "cell_type": "code",
      "execution_count": 17,
      "metadata": {
        "id": "4JrKvDFHjupZ"
      },
      "outputs": [],
      "source": [
        "y = np.array(y)"
      ]
    },
    {
      "cell_type": "code",
      "execution_count": 18,
      "metadata": {
        "id": "Rkqda5KQjupZ"
      },
      "outputs": [],
      "source": [
        "scaler = OrdinalEncoder()\n",
        "y_scaled = scaler.fit_transform(y.reshape(-1,1))"
      ]
    },
    {
      "cell_type": "code",
      "execution_count": 19,
      "metadata": {
        "colab": {
          "base_uri": "https://localhost:8080/"
        },
        "id": "2h2NNMkKjupZ",
        "outputId": "06843318-2f46-474d-d077-c70c7dfbe567"
      },
      "outputs": [
        {
          "output_type": "execute_result",
          "data": {
            "text/plain": [
              "array([[3.],\n",
              "       [3.],\n",
              "       [3.],\n",
              "       ...,\n",
              "       [1.],\n",
              "       [1.],\n",
              "       [1.]])"
            ]
          },
          "metadata": {},
          "execution_count": 19
        }
      ],
      "source": [
        "y_scaled"
      ]
    },
    {
      "cell_type": "code",
      "execution_count": 20,
      "metadata": {
        "id": "lH-voKcmjupZ"
      },
      "outputs": [],
      "source": [
        "X_train, X_test, y_train, y_test = train_test_split(X_scaled, y_scaled, test_size= 0.2, random_state= 1)"
      ]
    },
    {
      "cell_type": "code",
      "execution_count": 21,
      "metadata": {
        "colab": {
          "base_uri": "https://localhost:8080/"
        },
        "id": "UMLvjxsVjupZ",
        "outputId": "7b21c6f4-f57a-4f39-e9ff-cc41729b1f09"
      },
      "outputs": [
        {
          "output_type": "stream",
          "name": "stderr",
          "text": [
            "/usr/local/lib/python3.7/dist-packages/sklearn/neural_network/_multilayer_perceptron.py:1109: DataConversionWarning: A column-vector y was passed when a 1d array was expected. Please change the shape of y to (n_samples, ), for example using ravel().\n",
            "  y = column_or_1d(y, warn=True)\n"
          ]
        },
        {
          "output_type": "stream",
          "name": "stdout",
          "text": [
            "[[1665   27    0   35   75]\n",
            " [  40 1265    0    3    0]\n",
            " [   0    0    0    0    2]\n",
            " [   9    2    0  415   14]\n",
            " [  93    0    0   12  430]]\n",
            "0.923660386591632\n"
          ]
        },
        {
          "output_type": "stream",
          "name": "stderr",
          "text": [
            "/usr/local/lib/python3.7/dist-packages/sklearn/neural_network/_multilayer_perceptron.py:696: ConvergenceWarning: Stochastic Optimizer: Maximum iterations (250) reached and the optimization hasn't converged yet.\n",
            "  ConvergenceWarning,\n"
          ]
        }
      ],
      "source": [
        "## Shallow\n",
        "\n",
        "mlp_clf = MLPClassifier(hidden_layer_sizes= (200,), max_iter=250, solver='adam', learning_rate='adaptive')\n",
        "mlp_clf.fit(X_train, y_train)\n",
        "shallow_prediction = mlp_clf.predict(X_test)\n",
        "print(confusion_matrix(y_test, shallow_prediction))\n",
        "print(accuracy_score(y_test, shallow_prediction))"
      ]
    },
    {
      "cell_type": "code",
      "execution_count": 22,
      "metadata": {
        "colab": {
          "base_uri": "https://localhost:8080/"
        },
        "id": "M0YLveMejupZ",
        "outputId": "573ffcc8-341a-4342-9407-b6ddd5be8194"
      },
      "outputs": [
        {
          "output_type": "stream",
          "name": "stderr",
          "text": [
            "/usr/local/lib/python3.7/dist-packages/sklearn/neural_network/_multilayer_perceptron.py:1109: DataConversionWarning: A column-vector y was passed when a 1d array was expected. Please change the shape of y to (n_samples, ), for example using ravel().\n",
            "  y = column_or_1d(y, warn=True)\n"
          ]
        },
        {
          "output_type": "stream",
          "name": "stdout",
          "text": [
            "[[1735   18    0    2   47]\n",
            " [  30 1278    0    0    0]\n",
            " [   0    0    0    0    2]\n",
            " [  15    2    0  407   16]\n",
            " [  80    0    0    6  449]]\n",
            "0.9466601419133839\n"
          ]
        }
      ],
      "source": [
        "## less Shallow\n",
        "\n",
        "mlp_clf = MLPClassifier(hidden_layer_sizes= (50,100,50,), max_iter=250, solver='adam', learning_rate='adaptive')\n",
        "mlp_clf.fit(X_train, y_train)\n",
        "less_shallow_prediction = mlp_clf.predict(X_test)\n",
        "print(confusion_matrix(y_test, less_shallow_prediction))\n",
        "print(accuracy_score(y_test, less_shallow_prediction))"
      ]
    },
    {
      "cell_type": "markdown",
      "metadata": {
        "id": "E7O0dhWzjupZ"
      },
      "source": [
        "#### Better accuracy score with multiple hidden layers of 200 nodes total compared to 1 layer and 200 nodes in that one."
      ]
    },
    {
      "cell_type": "markdown",
      "metadata": {
        "id": "Fb7hVd9mjupZ"
      },
      "source": [
        "# QUESTION 3 (4 pts):\n",
        "\n",
        "## Also using the housing dataset, but this time using keras, answer two questions: (a) do different activation functions make a difference and (b) do different “optimizers” make a difference? In each case compare 2 options on a test set (using any keras architecture you choose to determine (a) which activation function appears to help build the best model and (b) which optimizer helps build the best model.You can fix the architecture and the test set across runs, and comparing these results across a single run is perfectly reasonable."
      ]
    },
    {
      "cell_type": "code",
      "execution_count": 24,
      "metadata": {
        "id": "-JZTiHFRjupZ"
      },
      "outputs": [],
      "source": [
        "from tensorflow import keras"
      ]
    },
    {
      "cell_type": "code",
      "source": [
        "from tensorflow.keras.models import Sequential\n",
        "from tensorflow.keras.layers import Dense\n",
        "from tensorflow.keras.layers import Dropout"
      ],
      "metadata": {
        "id": "RUFWR3ynkzIP"
      },
      "execution_count": 25,
      "outputs": []
    },
    {
      "cell_type": "code",
      "source": [
        "np.random.seed(42)"
      ],
      "metadata": {
        "id": "fYr2Bf03lDO3"
      },
      "execution_count": 26,
      "outputs": []
    },
    {
      "cell_type": "markdown",
      "source": [
        "## a)\n",
        "## Optimizer sgd\n",
        "## Activation Function ReLU"
      ],
      "metadata": {
        "id": "UTp6Tn_MmGBj"
      }
    },
    {
      "cell_type": "code",
      "source": [
        "model = Sequential()\n",
        "\n",
        "model.add(Dense(50, input_dim=9, activation='relu'))\n",
        "model.add(Dense(100, activation='relu'))\n",
        "model.add(Dense(50, activation='relu'))\n",
        "model.add(Dense(5, activation='softmax'))"
      ],
      "metadata": {
        "id": "OkpWMICqlUo7"
      },
      "execution_count": 27,
      "outputs": []
    },
    {
      "cell_type": "code",
      "source": [
        "sgd = keras.optimizers.SGD(lr=0.05)\n",
        "model.compile(loss='sparse_categorical_crossentropy', optimizer=sgd, metrics=['accuracy'])"
      ],
      "metadata": {
        "colab": {
          "base_uri": "https://localhost:8080/"
        },
        "id": "jN5y13FUlder",
        "outputId": "19691862-95c2-49a7-bb40-b6b26d3a0c55"
      },
      "execution_count": 28,
      "outputs": [
        {
          "output_type": "stream",
          "name": "stderr",
          "text": [
            "/usr/local/lib/python3.7/dist-packages/keras/optimizers/optimizer_v2/gradient_descent.py:108: UserWarning: The `lr` argument is deprecated, use `learning_rate` instead.\n",
            "  super(SGD, self).__init__(name, **kwargs)\n"
          ]
        }
      ]
    },
    {
      "cell_type": "code",
      "source": [
        "model.fit(X_train, y_train, epochs=100, batch_size=100)"
      ],
      "metadata": {
        "colab": {
          "base_uri": "https://localhost:8080/"
        },
        "id": "rt1pwjC8lnwN",
        "outputId": "ad1e5fa7-2cde-4f15-edbc-9ba94d51a4d7"
      },
      "execution_count": 29,
      "outputs": [
        {
          "output_type": "stream",
          "name": "stdout",
          "text": [
            "Epoch 1/100\n",
            "164/164 [==============================] - 2s 3ms/step - loss: 1.0068 - accuracy: 0.6278\n",
            "Epoch 2/100\n",
            "164/164 [==============================] - 0s 2ms/step - loss: 0.6443 - accuracy: 0.7603\n",
            "Epoch 3/100\n",
            "164/164 [==============================] - 0s 2ms/step - loss: 0.5298 - accuracy: 0.7924\n",
            "Epoch 4/100\n",
            "164/164 [==============================] - 0s 2ms/step - loss: 0.4392 - accuracy: 0.8259\n",
            "Epoch 5/100\n",
            "164/164 [==============================] - 0s 2ms/step - loss: 0.3887 - accuracy: 0.8452\n",
            "Epoch 6/100\n",
            "164/164 [==============================] - 0s 2ms/step - loss: 0.3718 - accuracy: 0.8506\n",
            "Epoch 7/100\n",
            "164/164 [==============================] - 0s 2ms/step - loss: 0.3425 - accuracy: 0.8574\n",
            "Epoch 8/100\n",
            "164/164 [==============================] - 0s 2ms/step - loss: 0.3385 - accuracy: 0.8611\n",
            "Epoch 9/100\n",
            "164/164 [==============================] - 0s 2ms/step - loss: 0.3233 - accuracy: 0.8681\n",
            "Epoch 10/100\n",
            "164/164 [==============================] - 0s 2ms/step - loss: 0.3106 - accuracy: 0.8715\n",
            "Epoch 11/100\n",
            "164/164 [==============================] - 0s 2ms/step - loss: 0.3087 - accuracy: 0.8720\n",
            "Epoch 12/100\n",
            "164/164 [==============================] - 0s 2ms/step - loss: 0.2990 - accuracy: 0.8778\n",
            "Epoch 13/100\n",
            "164/164 [==============================] - 0s 2ms/step - loss: 0.2969 - accuracy: 0.8769\n",
            "Epoch 14/100\n",
            "164/164 [==============================] - 0s 2ms/step - loss: 0.2872 - accuracy: 0.8827\n",
            "Epoch 15/100\n",
            "164/164 [==============================] - 0s 2ms/step - loss: 0.2860 - accuracy: 0.8821\n",
            "Epoch 16/100\n",
            "164/164 [==============================] - 0s 2ms/step - loss: 0.2789 - accuracy: 0.8849\n",
            "Epoch 17/100\n",
            "164/164 [==============================] - 0s 2ms/step - loss: 0.2693 - accuracy: 0.8908\n",
            "Epoch 18/100\n",
            "164/164 [==============================] - 0s 2ms/step - loss: 0.2648 - accuracy: 0.8916\n",
            "Epoch 19/100\n",
            "164/164 [==============================] - 0s 2ms/step - loss: 0.2681 - accuracy: 0.8886\n",
            "Epoch 20/100\n",
            "164/164 [==============================] - 0s 2ms/step - loss: 0.2536 - accuracy: 0.8960\n",
            "Epoch 21/100\n",
            "164/164 [==============================] - 0s 2ms/step - loss: 0.2554 - accuracy: 0.8972\n",
            "Epoch 22/100\n",
            "164/164 [==============================] - 0s 2ms/step - loss: 0.2503 - accuracy: 0.8987\n",
            "Epoch 23/100\n",
            "164/164 [==============================] - 0s 2ms/step - loss: 0.2426 - accuracy: 0.9021\n",
            "Epoch 24/100\n",
            "164/164 [==============================] - 0s 2ms/step - loss: 0.2426 - accuracy: 0.9007\n",
            "Epoch 25/100\n",
            "164/164 [==============================] - 0s 2ms/step - loss: 0.2370 - accuracy: 0.9047\n",
            "Epoch 26/100\n",
            "164/164 [==============================] - 0s 2ms/step - loss: 0.2335 - accuracy: 0.9058\n",
            "Epoch 27/100\n",
            "164/164 [==============================] - 0s 2ms/step - loss: 0.2313 - accuracy: 0.9054\n",
            "Epoch 28/100\n",
            "164/164 [==============================] - 0s 2ms/step - loss: 0.2277 - accuracy: 0.9066\n",
            "Epoch 29/100\n",
            "164/164 [==============================] - 0s 2ms/step - loss: 0.2185 - accuracy: 0.9104\n",
            "Epoch 30/100\n",
            "164/164 [==============================] - 0s 2ms/step - loss: 0.2175 - accuracy: 0.9104\n",
            "Epoch 31/100\n",
            "164/164 [==============================] - 0s 2ms/step - loss: 0.2147 - accuracy: 0.9123\n",
            "Epoch 32/100\n",
            "164/164 [==============================] - 0s 2ms/step - loss: 0.2137 - accuracy: 0.9119\n",
            "Epoch 33/100\n",
            "164/164 [==============================] - 0s 2ms/step - loss: 0.2122 - accuracy: 0.9129\n",
            "Epoch 34/100\n",
            "164/164 [==============================] - 0s 2ms/step - loss: 0.2051 - accuracy: 0.9150\n",
            "Epoch 35/100\n",
            "164/164 [==============================] - 0s 2ms/step - loss: 0.2058 - accuracy: 0.9147\n",
            "Epoch 36/100\n",
            "164/164 [==============================] - 0s 2ms/step - loss: 0.1999 - accuracy: 0.9190\n",
            "Epoch 37/100\n",
            "164/164 [==============================] - 0s 2ms/step - loss: 0.2024 - accuracy: 0.9166\n",
            "Epoch 38/100\n",
            "164/164 [==============================] - 0s 2ms/step - loss: 0.1918 - accuracy: 0.9209\n",
            "Epoch 39/100\n",
            "164/164 [==============================] - 0s 2ms/step - loss: 0.1960 - accuracy: 0.9183\n",
            "Epoch 40/100\n",
            "164/164 [==============================] - 0s 2ms/step - loss: 0.1913 - accuracy: 0.9213\n",
            "Epoch 41/100\n",
            "164/164 [==============================] - 0s 2ms/step - loss: 0.1933 - accuracy: 0.9203\n",
            "Epoch 42/100\n",
            "164/164 [==============================] - 0s 2ms/step - loss: 0.1902 - accuracy: 0.9222\n",
            "Epoch 43/100\n",
            "164/164 [==============================] - 0s 2ms/step - loss: 0.1871 - accuracy: 0.9240\n",
            "Epoch 44/100\n",
            "164/164 [==============================] - 0s 2ms/step - loss: 0.1888 - accuracy: 0.9238\n",
            "Epoch 45/100\n",
            "164/164 [==============================] - 0s 2ms/step - loss: 0.1833 - accuracy: 0.9233\n",
            "Epoch 46/100\n",
            "164/164 [==============================] - 0s 2ms/step - loss: 0.1807 - accuracy: 0.9244\n",
            "Epoch 47/100\n",
            "164/164 [==============================] - 0s 2ms/step - loss: 0.1841 - accuracy: 0.9232\n",
            "Epoch 48/100\n",
            "164/164 [==============================] - 0s 2ms/step - loss: 0.1821 - accuracy: 0.9218\n",
            "Epoch 49/100\n",
            "164/164 [==============================] - 0s 2ms/step - loss: 0.1821 - accuracy: 0.9246\n",
            "Epoch 50/100\n",
            "164/164 [==============================] - 0s 2ms/step - loss: 0.1812 - accuracy: 0.9254\n",
            "Epoch 51/100\n",
            "164/164 [==============================] - 0s 2ms/step - loss: 0.1743 - accuracy: 0.9279\n",
            "Epoch 52/100\n",
            "164/164 [==============================] - 0s 2ms/step - loss: 0.1737 - accuracy: 0.9265\n",
            "Epoch 53/100\n",
            "164/164 [==============================] - 0s 2ms/step - loss: 0.1734 - accuracy: 0.9284\n",
            "Epoch 54/100\n",
            "164/164 [==============================] - 0s 2ms/step - loss: 0.1710 - accuracy: 0.9296\n",
            "Epoch 55/100\n",
            "164/164 [==============================] - 0s 2ms/step - loss: 0.1752 - accuracy: 0.9290\n",
            "Epoch 56/100\n",
            "164/164 [==============================] - 0s 2ms/step - loss: 0.1702 - accuracy: 0.9307\n",
            "Epoch 57/100\n",
            "164/164 [==============================] - 0s 2ms/step - loss: 0.1693 - accuracy: 0.9290\n",
            "Epoch 58/100\n",
            "164/164 [==============================] - 0s 2ms/step - loss: 0.1670 - accuracy: 0.9310\n",
            "Epoch 59/100\n",
            "164/164 [==============================] - 0s 2ms/step - loss: 0.1631 - accuracy: 0.9341\n",
            "Epoch 60/100\n",
            "164/164 [==============================] - 0s 2ms/step - loss: 0.1653 - accuracy: 0.9320\n",
            "Epoch 61/100\n",
            "164/164 [==============================] - 0s 2ms/step - loss: 0.1670 - accuracy: 0.9304\n",
            "Epoch 62/100\n",
            "164/164 [==============================] - 0s 2ms/step - loss: 0.1589 - accuracy: 0.9341\n",
            "Epoch 63/100\n",
            "164/164 [==============================] - 0s 2ms/step - loss: 0.1593 - accuracy: 0.9345\n",
            "Epoch 64/100\n",
            "164/164 [==============================] - 0s 2ms/step - loss: 0.1591 - accuracy: 0.9353\n",
            "Epoch 65/100\n",
            "164/164 [==============================] - 0s 2ms/step - loss: 0.1585 - accuracy: 0.9343\n",
            "Epoch 66/100\n",
            "164/164 [==============================] - 0s 2ms/step - loss: 0.1645 - accuracy: 0.9336\n",
            "Epoch 67/100\n",
            "164/164 [==============================] - 0s 2ms/step - loss: 0.1531 - accuracy: 0.9356\n",
            "Epoch 68/100\n",
            "164/164 [==============================] - 0s 2ms/step - loss: 0.1577 - accuracy: 0.9337\n",
            "Epoch 69/100\n",
            "164/164 [==============================] - 0s 2ms/step - loss: 0.1590 - accuracy: 0.9343\n",
            "Epoch 70/100\n",
            "164/164 [==============================] - 0s 2ms/step - loss: 0.1531 - accuracy: 0.9372\n",
            "Epoch 71/100\n",
            "164/164 [==============================] - 0s 2ms/step - loss: 0.1610 - accuracy: 0.9344\n",
            "Epoch 72/100\n",
            "164/164 [==============================] - 0s 2ms/step - loss: 0.1540 - accuracy: 0.9352\n",
            "Epoch 73/100\n",
            "164/164 [==============================] - 0s 2ms/step - loss: 0.1583 - accuracy: 0.9345\n",
            "Epoch 74/100\n",
            "164/164 [==============================] - 0s 2ms/step - loss: 0.1504 - accuracy: 0.9366\n",
            "Epoch 75/100\n",
            "164/164 [==============================] - 0s 2ms/step - loss: 0.1510 - accuracy: 0.9372\n",
            "Epoch 76/100\n",
            "164/164 [==============================] - 0s 2ms/step - loss: 0.1486 - accuracy: 0.9386\n",
            "Epoch 77/100\n",
            "164/164 [==============================] - 0s 2ms/step - loss: 0.1494 - accuracy: 0.9397\n",
            "Epoch 78/100\n",
            "164/164 [==============================] - 0s 2ms/step - loss: 0.1489 - accuracy: 0.9398\n",
            "Epoch 79/100\n",
            "164/164 [==============================] - 0s 2ms/step - loss: 0.1504 - accuracy: 0.9381\n",
            "Epoch 80/100\n",
            "164/164 [==============================] - 0s 2ms/step - loss: 0.1484 - accuracy: 0.9383\n",
            "Epoch 81/100\n",
            "164/164 [==============================] - 0s 2ms/step - loss: 0.1425 - accuracy: 0.9418\n",
            "Epoch 82/100\n",
            "164/164 [==============================] - 0s 2ms/step - loss: 0.1487 - accuracy: 0.9382\n",
            "Epoch 83/100\n",
            "164/164 [==============================] - 0s 2ms/step - loss: 0.1432 - accuracy: 0.9402\n",
            "Epoch 84/100\n",
            "164/164 [==============================] - 0s 2ms/step - loss: 0.1477 - accuracy: 0.9386\n",
            "Epoch 85/100\n",
            "164/164 [==============================] - 0s 2ms/step - loss: 0.1459 - accuracy: 0.9408\n",
            "Epoch 86/100\n",
            "164/164 [==============================] - 0s 2ms/step - loss: 0.1402 - accuracy: 0.9422\n",
            "Epoch 87/100\n",
            "164/164 [==============================] - 0s 2ms/step - loss: 0.1430 - accuracy: 0.9415\n",
            "Epoch 88/100\n",
            "164/164 [==============================] - 0s 2ms/step - loss: 0.1360 - accuracy: 0.9446\n",
            "Epoch 89/100\n",
            "164/164 [==============================] - 0s 2ms/step - loss: 0.1460 - accuracy: 0.9389\n",
            "Epoch 90/100\n",
            "164/164 [==============================] - 0s 2ms/step - loss: 0.1388 - accuracy: 0.9405\n",
            "Epoch 91/100\n",
            "164/164 [==============================] - 0s 2ms/step - loss: 0.1397 - accuracy: 0.9431\n",
            "Epoch 92/100\n",
            "164/164 [==============================] - 0s 2ms/step - loss: 0.1439 - accuracy: 0.9402\n",
            "Epoch 93/100\n",
            "164/164 [==============================] - 0s 2ms/step - loss: 0.1375 - accuracy: 0.9427\n",
            "Epoch 94/100\n",
            "164/164 [==============================] - 0s 2ms/step - loss: 0.1366 - accuracy: 0.9432\n",
            "Epoch 95/100\n",
            "164/164 [==============================] - 0s 2ms/step - loss: 0.1316 - accuracy: 0.9452\n",
            "Epoch 96/100\n",
            "164/164 [==============================] - 0s 2ms/step - loss: 0.1358 - accuracy: 0.9445\n",
            "Epoch 97/100\n",
            "164/164 [==============================] - 0s 2ms/step - loss: 0.1429 - accuracy: 0.9421\n",
            "Epoch 98/100\n",
            "164/164 [==============================] - 0s 2ms/step - loss: 0.1364 - accuracy: 0.9435\n",
            "Epoch 99/100\n",
            "164/164 [==============================] - 0s 2ms/step - loss: 0.1348 - accuracy: 0.9434\n",
            "Epoch 100/100\n",
            "164/164 [==============================] - 0s 2ms/step - loss: 0.1390 - accuracy: 0.9411\n"
          ]
        },
        {
          "output_type": "execute_result",
          "data": {
            "text/plain": [
              "<keras.callbacks.History at 0x7fbc1756b690>"
            ]
          },
          "metadata": {},
          "execution_count": 29
        }
      ]
    },
    {
      "cell_type": "code",
      "source": [
        "scores = model.evaluate(X_test, y_test)\n",
        "print(\"\\n%s: %.2f%%\" % (model.metrics_names[1], scores[1]*100))"
      ],
      "metadata": {
        "colab": {
          "base_uri": "https://localhost:8080/"
        },
        "id": "lhLtLrGLlr-k",
        "outputId": "eb0d93a6-b5c0-48b1-f5bd-88ea59a6c17d"
      },
      "execution_count": 30,
      "outputs": [
        {
          "output_type": "stream",
          "name": "stdout",
          "text": [
            "128/128 [==============================] - 1s 4ms/step - loss: 0.1718 - accuracy: 0.9320\n",
            "\n",
            "accuracy: 93.20%\n"
          ]
        }
      ]
    },
    {
      "cell_type": "markdown",
      "source": [
        "## a)\n",
        "## Optimizer sgd\n",
        "## Activation Function Sigmoid"
      ],
      "metadata": {
        "id": "hr45TfzBmLk1"
      }
    },
    {
      "cell_type": "code",
      "source": [
        "model = Sequential()\n",
        "\n",
        "model.add(Dense(50, input_dim=9, activation='sigmoid'))\n",
        "model.add(Dense(100, activation='sigmoid'))\n",
        "model.add(Dense(50, activation='sigmoid'))\n",
        "model.add(Dense(5, activation='softmax'))"
      ],
      "metadata": {
        "id": "KcYY9CLjl8PY"
      },
      "execution_count": 31,
      "outputs": []
    },
    {
      "cell_type": "code",
      "source": [
        "sgd = keras.optimizers.SGD(lr=0.05)\n",
        "model.compile(loss='sparse_categorical_crossentropy', optimizer=sgd, metrics=['accuracy'])"
      ],
      "metadata": {
        "colab": {
          "base_uri": "https://localhost:8080/"
        },
        "id": "wimyNbqomYUW",
        "outputId": "4adf7394-d47d-46c9-b576-009d9927a1c4"
      },
      "execution_count": 32,
      "outputs": [
        {
          "output_type": "stream",
          "name": "stderr",
          "text": [
            "/usr/local/lib/python3.7/dist-packages/keras/optimizers/optimizer_v2/gradient_descent.py:108: UserWarning: The `lr` argument is deprecated, use `learning_rate` instead.\n",
            "  super(SGD, self).__init__(name, **kwargs)\n"
          ]
        }
      ]
    },
    {
      "cell_type": "code",
      "source": [
        "model.fit(X_train, y_train, epochs=100, batch_size=100)"
      ],
      "metadata": {
        "colab": {
          "base_uri": "https://localhost:8080/"
        },
        "id": "dhmn6pXomah4",
        "outputId": "ee69c596-bca3-436a-bb48-e03ea092ae6e"
      },
      "execution_count": 33,
      "outputs": [
        {
          "output_type": "stream",
          "name": "stdout",
          "text": [
            "Epoch 1/100\n",
            "164/164 [==============================] - 1s 2ms/step - loss: 1.2465 - accuracy: 0.4399\n",
            "Epoch 2/100\n",
            "164/164 [==============================] - 0s 2ms/step - loss: 1.2312 - accuracy: 0.4424\n",
            "Epoch 3/100\n",
            "164/164 [==============================] - 0s 2ms/step - loss: 1.2241 - accuracy: 0.4424\n",
            "Epoch 4/100\n",
            "164/164 [==============================] - 0s 2ms/step - loss: 1.2167 - accuracy: 0.4440\n",
            "Epoch 5/100\n",
            "164/164 [==============================] - 0s 2ms/step - loss: 1.2058 - accuracy: 0.4521\n",
            "Epoch 6/100\n",
            "164/164 [==============================] - 0s 2ms/step - loss: 1.1905 - accuracy: 0.4777\n",
            "Epoch 7/100\n",
            "164/164 [==============================] - 0s 2ms/step - loss: 1.1641 - accuracy: 0.5418\n",
            "Epoch 8/100\n",
            "164/164 [==============================] - 0s 2ms/step - loss: 1.1254 - accuracy: 0.5931\n",
            "Epoch 9/100\n",
            "164/164 [==============================] - 0s 2ms/step - loss: 1.0798 - accuracy: 0.6044\n",
            "Epoch 10/100\n",
            "164/164 [==============================] - 0s 2ms/step - loss: 1.0371 - accuracy: 0.6101\n",
            "Epoch 11/100\n",
            "164/164 [==============================] - 0s 2ms/step - loss: 1.0023 - accuracy: 0.6169\n",
            "Epoch 12/100\n",
            "164/164 [==============================] - 0s 2ms/step - loss: 0.9700 - accuracy: 0.6249\n",
            "Epoch 13/100\n",
            "164/164 [==============================] - 0s 2ms/step - loss: 0.9346 - accuracy: 0.6354\n",
            "Epoch 14/100\n",
            "164/164 [==============================] - 0s 2ms/step - loss: 0.8946 - accuracy: 0.6491\n",
            "Epoch 15/100\n",
            "164/164 [==============================] - 0s 2ms/step - loss: 0.8537 - accuracy: 0.6768\n",
            "Epoch 16/100\n",
            "164/164 [==============================] - 0s 2ms/step - loss: 0.8160 - accuracy: 0.7010\n",
            "Epoch 17/100\n",
            "164/164 [==============================] - 0s 2ms/step - loss: 0.7840 - accuracy: 0.7179\n",
            "Epoch 18/100\n",
            "164/164 [==============================] - 0s 2ms/step - loss: 0.7561 - accuracy: 0.7336\n",
            "Epoch 19/100\n",
            "164/164 [==============================] - 0s 2ms/step - loss: 0.7321 - accuracy: 0.7476\n",
            "Epoch 20/100\n",
            "164/164 [==============================] - 0s 2ms/step - loss: 0.7122 - accuracy: 0.7555\n",
            "Epoch 21/100\n",
            "164/164 [==============================] - 0s 2ms/step - loss: 0.6940 - accuracy: 0.7611\n",
            "Epoch 22/100\n",
            "164/164 [==============================] - 0s 2ms/step - loss: 0.6785 - accuracy: 0.7669\n",
            "Epoch 23/100\n",
            "164/164 [==============================] - 0s 2ms/step - loss: 0.6646 - accuracy: 0.7699\n",
            "Epoch 24/100\n",
            "164/164 [==============================] - 0s 2ms/step - loss: 0.6512 - accuracy: 0.7752\n",
            "Epoch 25/100\n",
            "164/164 [==============================] - 0s 2ms/step - loss: 0.6399 - accuracy: 0.7793\n",
            "Epoch 26/100\n",
            "164/164 [==============================] - 0s 2ms/step - loss: 0.6289 - accuracy: 0.7805\n",
            "Epoch 27/100\n",
            "164/164 [==============================] - 0s 2ms/step - loss: 0.6184 - accuracy: 0.7839\n",
            "Epoch 28/100\n",
            "164/164 [==============================] - 0s 2ms/step - loss: 0.6076 - accuracy: 0.7845\n",
            "Epoch 29/100\n",
            "164/164 [==============================] - 0s 2ms/step - loss: 0.5974 - accuracy: 0.7867\n",
            "Epoch 30/100\n",
            "164/164 [==============================] - 1s 3ms/step - loss: 0.5871 - accuracy: 0.7879\n",
            "Epoch 31/100\n",
            "164/164 [==============================] - 1s 3ms/step - loss: 0.5777 - accuracy: 0.7907\n",
            "Epoch 32/100\n",
            "164/164 [==============================] - 0s 2ms/step - loss: 0.5677 - accuracy: 0.7915\n",
            "Epoch 33/100\n",
            "164/164 [==============================] - 0s 2ms/step - loss: 0.5587 - accuracy: 0.7925\n",
            "Epoch 34/100\n",
            "164/164 [==============================] - 0s 2ms/step - loss: 0.5489 - accuracy: 0.7936\n",
            "Epoch 35/100\n",
            "164/164 [==============================] - 0s 2ms/step - loss: 0.5397 - accuracy: 0.7946\n",
            "Epoch 36/100\n",
            "164/164 [==============================] - 0s 2ms/step - loss: 0.5308 - accuracy: 0.7965\n",
            "Epoch 37/100\n",
            "164/164 [==============================] - 1s 5ms/step - loss: 0.5222 - accuracy: 0.7971\n",
            "Epoch 38/100\n",
            "164/164 [==============================] - 1s 4ms/step - loss: 0.5145 - accuracy: 0.8010\n",
            "Epoch 39/100\n",
            "164/164 [==============================] - 1s 4ms/step - loss: 0.5066 - accuracy: 0.8007\n",
            "Epoch 40/100\n",
            "164/164 [==============================] - 1s 4ms/step - loss: 0.4987 - accuracy: 0.8000\n",
            "Epoch 41/100\n",
            "164/164 [==============================] - 1s 5ms/step - loss: 0.4913 - accuracy: 0.8010\n",
            "Epoch 42/100\n",
            "164/164 [==============================] - 1s 4ms/step - loss: 0.4844 - accuracy: 0.8012\n",
            "Epoch 43/100\n",
            "164/164 [==============================] - 0s 2ms/step - loss: 0.4770 - accuracy: 0.8020\n",
            "Epoch 44/100\n",
            "164/164 [==============================] - 1s 3ms/step - loss: 0.4697 - accuracy: 0.8039\n",
            "Epoch 45/100\n",
            "164/164 [==============================] - 1s 6ms/step - loss: 0.4632 - accuracy: 0.8040\n",
            "Epoch 46/100\n",
            "164/164 [==============================] - 1s 4ms/step - loss: 0.4558 - accuracy: 0.8072\n",
            "Epoch 47/100\n",
            "164/164 [==============================] - 0s 2ms/step - loss: 0.4486 - accuracy: 0.8082\n",
            "Epoch 48/100\n",
            "164/164 [==============================] - 1s 4ms/step - loss: 0.4423 - accuracy: 0.8099\n",
            "Epoch 49/100\n",
            "164/164 [==============================] - 1s 3ms/step - loss: 0.4350 - accuracy: 0.8144\n",
            "Epoch 50/100\n",
            "164/164 [==============================] - 0s 2ms/step - loss: 0.4278 - accuracy: 0.8187\n",
            "Epoch 51/100\n",
            "164/164 [==============================] - 0s 2ms/step - loss: 0.4207 - accuracy: 0.8261\n",
            "Epoch 52/100\n",
            "164/164 [==============================] - 0s 2ms/step - loss: 0.4141 - accuracy: 0.8329\n",
            "Epoch 53/100\n",
            "164/164 [==============================] - 0s 2ms/step - loss: 0.4075 - accuracy: 0.8370\n",
            "Epoch 54/100\n",
            "164/164 [==============================] - 0s 2ms/step - loss: 0.4008 - accuracy: 0.8411\n",
            "Epoch 55/100\n",
            "164/164 [==============================] - 0s 2ms/step - loss: 0.3961 - accuracy: 0.8449\n",
            "Epoch 56/100\n",
            "164/164 [==============================] - 0s 2ms/step - loss: 0.3909 - accuracy: 0.8444\n",
            "Epoch 57/100\n",
            "164/164 [==============================] - 0s 2ms/step - loss: 0.3852 - accuracy: 0.8472\n",
            "Epoch 58/100\n",
            "164/164 [==============================] - 0s 2ms/step - loss: 0.3814 - accuracy: 0.8482\n",
            "Epoch 59/100\n",
            "164/164 [==============================] - 0s 2ms/step - loss: 0.3772 - accuracy: 0.8473\n",
            "Epoch 60/100\n",
            "164/164 [==============================] - 0s 2ms/step - loss: 0.3735 - accuracy: 0.8480\n",
            "Epoch 61/100\n",
            "164/164 [==============================] - 0s 2ms/step - loss: 0.3694 - accuracy: 0.8484\n",
            "Epoch 62/100\n",
            "164/164 [==============================] - 0s 2ms/step - loss: 0.3667 - accuracy: 0.8497\n",
            "Epoch 63/100\n",
            "164/164 [==============================] - 0s 2ms/step - loss: 0.3631 - accuracy: 0.8502\n",
            "Epoch 64/100\n",
            "164/164 [==============================] - 0s 2ms/step - loss: 0.3607 - accuracy: 0.8489\n",
            "Epoch 65/100\n",
            "164/164 [==============================] - 0s 2ms/step - loss: 0.3568 - accuracy: 0.8502\n",
            "Epoch 66/100\n",
            "164/164 [==============================] - 0s 2ms/step - loss: 0.3557 - accuracy: 0.8502\n",
            "Epoch 67/100\n",
            "164/164 [==============================] - 0s 2ms/step - loss: 0.3519 - accuracy: 0.8535\n",
            "Epoch 68/100\n",
            "164/164 [==============================] - 0s 2ms/step - loss: 0.3498 - accuracy: 0.8537\n",
            "Epoch 69/100\n",
            "164/164 [==============================] - 0s 2ms/step - loss: 0.3472 - accuracy: 0.8546\n",
            "Epoch 70/100\n",
            "164/164 [==============================] - 0s 2ms/step - loss: 0.3442 - accuracy: 0.8565\n",
            "Epoch 71/100\n",
            "164/164 [==============================] - 0s 2ms/step - loss: 0.3423 - accuracy: 0.8571\n",
            "Epoch 72/100\n",
            "164/164 [==============================] - 0s 2ms/step - loss: 0.3406 - accuracy: 0.8574\n",
            "Epoch 73/100\n",
            "164/164 [==============================] - 0s 2ms/step - loss: 0.3383 - accuracy: 0.8558\n",
            "Epoch 74/100\n",
            "164/164 [==============================] - 1s 3ms/step - loss: 0.3354 - accuracy: 0.8578\n",
            "Epoch 75/100\n",
            "164/164 [==============================] - 0s 3ms/step - loss: 0.3331 - accuracy: 0.8592\n",
            "Epoch 76/100\n",
            "164/164 [==============================] - 0s 3ms/step - loss: 0.3304 - accuracy: 0.8603\n",
            "Epoch 77/100\n",
            "164/164 [==============================] - 1s 3ms/step - loss: 0.3285 - accuracy: 0.8612\n",
            "Epoch 78/100\n",
            "164/164 [==============================] - 0s 2ms/step - loss: 0.3266 - accuracy: 0.8612\n",
            "Epoch 79/100\n",
            "164/164 [==============================] - 0s 2ms/step - loss: 0.3255 - accuracy: 0.8625\n",
            "Epoch 80/100\n",
            "164/164 [==============================] - 0s 2ms/step - loss: 0.3237 - accuracy: 0.8613\n",
            "Epoch 81/100\n",
            "164/164 [==============================] - 0s 2ms/step - loss: 0.3222 - accuracy: 0.8623\n",
            "Epoch 82/100\n",
            "164/164 [==============================] - 0s 2ms/step - loss: 0.3210 - accuracy: 0.8624\n",
            "Epoch 83/100\n",
            "164/164 [==============================] - 0s 3ms/step - loss: 0.3172 - accuracy: 0.8647\n",
            "Epoch 84/100\n",
            "164/164 [==============================] - 1s 3ms/step - loss: 0.3160 - accuracy: 0.8661\n",
            "Epoch 85/100\n",
            "164/164 [==============================] - 0s 2ms/step - loss: 0.3140 - accuracy: 0.8652\n",
            "Epoch 86/100\n",
            "164/164 [==============================] - 0s 2ms/step - loss: 0.3131 - accuracy: 0.8674\n",
            "Epoch 87/100\n",
            "164/164 [==============================] - 0s 2ms/step - loss: 0.3125 - accuracy: 0.8667\n",
            "Epoch 88/100\n",
            "164/164 [==============================] - 0s 2ms/step - loss: 0.3101 - accuracy: 0.8683\n",
            "Epoch 89/100\n",
            "164/164 [==============================] - 0s 2ms/step - loss: 0.3095 - accuracy: 0.8685\n",
            "Epoch 90/100\n",
            "164/164 [==============================] - 0s 2ms/step - loss: 0.3082 - accuracy: 0.8682\n",
            "Epoch 91/100\n",
            "164/164 [==============================] - 0s 2ms/step - loss: 0.3069 - accuracy: 0.8683\n",
            "Epoch 92/100\n",
            "164/164 [==============================] - 0s 2ms/step - loss: 0.3055 - accuracy: 0.8705\n",
            "Epoch 93/100\n",
            "164/164 [==============================] - 0s 2ms/step - loss: 0.3041 - accuracy: 0.8689\n",
            "Epoch 94/100\n",
            "164/164 [==============================] - 0s 2ms/step - loss: 0.3046 - accuracy: 0.8701\n",
            "Epoch 95/100\n",
            "164/164 [==============================] - 0s 2ms/step - loss: 0.3032 - accuracy: 0.8698\n",
            "Epoch 96/100\n",
            "164/164 [==============================] - 0s 2ms/step - loss: 0.3022 - accuracy: 0.8698\n",
            "Epoch 97/100\n",
            "164/164 [==============================] - 0s 2ms/step - loss: 0.3015 - accuracy: 0.8679\n",
            "Epoch 98/100\n",
            "164/164 [==============================] - 0s 2ms/step - loss: 0.2993 - accuracy: 0.8711\n",
            "Epoch 99/100\n",
            "164/164 [==============================] - 1s 3ms/step - loss: 0.2997 - accuracy: 0.8713\n",
            "Epoch 100/100\n",
            "164/164 [==============================] - 0s 3ms/step - loss: 0.2983 - accuracy: 0.8723\n"
          ]
        },
        {
          "output_type": "execute_result",
          "data": {
            "text/plain": [
              "<keras.callbacks.History at 0x7fbc15c51750>"
            ]
          },
          "metadata": {},
          "execution_count": 33
        }
      ]
    },
    {
      "cell_type": "code",
      "source": [
        "scores = model.evaluate(X_test, y_test)\n",
        "print(\"\\n%s: %.2f%%\" % (model.metrics_names[1], scores[1]*100))"
      ],
      "metadata": {
        "colab": {
          "base_uri": "https://localhost:8080/"
        },
        "id": "K5hzVDH_mclJ",
        "outputId": "b05628a2-c54e-4c77-86ff-987c3dab06a7"
      },
      "execution_count": 34,
      "outputs": [
        {
          "output_type": "stream",
          "name": "stdout",
          "text": [
            "128/128 [==============================] - 1s 3ms/step - loss: 0.3277 - accuracy: 0.8515\n",
            "\n",
            "accuracy: 85.15%\n"
          ]
        }
      ]
    },
    {
      "cell_type": "markdown",
      "source": [
        "## b)\n",
        "## Optimizer Adam\n",
        "## Activation Function ReLU"
      ],
      "metadata": {
        "id": "MI5fgOKbmhNd"
      }
    },
    {
      "cell_type": "code",
      "source": [
        "model = Sequential()\n",
        "\n",
        "model.add(Dense(50, input_dim=9, activation='relu'))\n",
        "model.add(Dense(100, activation='relu'))\n",
        "model.add(Dense(50, activation='relu'))\n",
        "model.add(Dense(5, activation='softmax'))"
      ],
      "metadata": {
        "id": "Uy0SNm8cmgZR"
      },
      "execution_count": 35,
      "outputs": []
    },
    {
      "cell_type": "code",
      "source": [
        "adam = keras.optimizers.Adam(lr=0.001, beta_1=0.9, beta_2=0.999, decay=0.0, amsgrad=False)\n",
        "model.compile(loss='sparse_categorical_crossentropy', optimizer=adam, metrics=['accuracy'])"
      ],
      "metadata": {
        "colab": {
          "base_uri": "https://localhost:8080/"
        },
        "id": "DrOiHlg5mtok",
        "outputId": "14768070-4728-4366-abec-1115f3d5bbd4"
      },
      "execution_count": 36,
      "outputs": [
        {
          "output_type": "stream",
          "name": "stderr",
          "text": [
            "/usr/local/lib/python3.7/dist-packages/keras/optimizers/optimizer_v2/adam.py:110: UserWarning: The `lr` argument is deprecated, use `learning_rate` instead.\n",
            "  super(Adam, self).__init__(name, **kwargs)\n"
          ]
        }
      ]
    },
    {
      "cell_type": "code",
      "source": [
        "model.fit(X_train, y_train, epochs=100, batch_size=100)"
      ],
      "metadata": {
        "colab": {
          "base_uri": "https://localhost:8080/"
        },
        "id": "Z_5aChWMm2ev",
        "outputId": "bce4268b-4e1f-4416-c727-e169ffad7d6f"
      },
      "execution_count": 37,
      "outputs": [
        {
          "output_type": "stream",
          "name": "stdout",
          "text": [
            "Epoch 1/100\n",
            "164/164 [==============================] - 1s 3ms/step - loss: 0.7952 - accuracy: 0.7084\n",
            "Epoch 2/100\n",
            "164/164 [==============================] - 0s 3ms/step - loss: 0.4979 - accuracy: 0.8064\n",
            "Epoch 3/100\n",
            "164/164 [==============================] - 0s 3ms/step - loss: 0.3855 - accuracy: 0.8466\n",
            "Epoch 4/100\n",
            "164/164 [==============================] - 0s 3ms/step - loss: 0.3422 - accuracy: 0.8586\n",
            "Epoch 5/100\n",
            "164/164 [==============================] - 0s 2ms/step - loss: 0.3158 - accuracy: 0.8718\n",
            "Epoch 6/100\n",
            "164/164 [==============================] - 0s 3ms/step - loss: 0.2975 - accuracy: 0.8784\n",
            "Epoch 7/100\n",
            "164/164 [==============================] - 0s 3ms/step - loss: 0.2877 - accuracy: 0.8840\n",
            "Epoch 8/100\n",
            "164/164 [==============================] - 0s 3ms/step - loss: 0.2679 - accuracy: 0.8925\n",
            "Epoch 9/100\n",
            "164/164 [==============================] - 0s 3ms/step - loss: 0.2601 - accuracy: 0.8943\n",
            "Epoch 10/100\n",
            "164/164 [==============================] - 0s 3ms/step - loss: 0.2458 - accuracy: 0.8995\n",
            "Epoch 11/100\n",
            "164/164 [==============================] - 0s 3ms/step - loss: 0.2370 - accuracy: 0.9054\n",
            "Epoch 12/100\n",
            "164/164 [==============================] - 0s 3ms/step - loss: 0.2351 - accuracy: 0.9063\n",
            "Epoch 13/100\n",
            "164/164 [==============================] - 0s 3ms/step - loss: 0.2211 - accuracy: 0.9099\n",
            "Epoch 14/100\n",
            "164/164 [==============================] - 0s 3ms/step - loss: 0.2142 - accuracy: 0.9146\n",
            "Epoch 15/100\n",
            "164/164 [==============================] - 0s 3ms/step - loss: 0.2063 - accuracy: 0.9178\n",
            "Epoch 16/100\n",
            "164/164 [==============================] - 0s 3ms/step - loss: 0.2026 - accuracy: 0.9175\n",
            "Epoch 17/100\n",
            "164/164 [==============================] - 0s 3ms/step - loss: 0.1965 - accuracy: 0.9210\n",
            "Epoch 18/100\n",
            "164/164 [==============================] - 0s 3ms/step - loss: 0.1946 - accuracy: 0.9196\n",
            "Epoch 19/100\n",
            "164/164 [==============================] - 0s 3ms/step - loss: 0.1855 - accuracy: 0.9266\n",
            "Epoch 20/100\n",
            "164/164 [==============================] - 1s 4ms/step - loss: 0.1866 - accuracy: 0.9222\n",
            "Epoch 21/100\n",
            "164/164 [==============================] - 1s 4ms/step - loss: 0.1796 - accuracy: 0.9283\n",
            "Epoch 22/100\n",
            "164/164 [==============================] - 1s 4ms/step - loss: 0.1871 - accuracy: 0.9237\n",
            "Epoch 23/100\n",
            "164/164 [==============================] - 0s 3ms/step - loss: 0.1721 - accuracy: 0.9309\n",
            "Epoch 24/100\n",
            "164/164 [==============================] - 0s 3ms/step - loss: 0.1668 - accuracy: 0.9328\n",
            "Epoch 25/100\n",
            "164/164 [==============================] - 0s 3ms/step - loss: 0.1716 - accuracy: 0.9289\n",
            "Epoch 26/100\n",
            "164/164 [==============================] - 0s 3ms/step - loss: 0.1630 - accuracy: 0.9349\n",
            "Epoch 27/100\n",
            "164/164 [==============================] - 0s 3ms/step - loss: 0.1617 - accuracy: 0.9343\n",
            "Epoch 28/100\n",
            "164/164 [==============================] - 0s 3ms/step - loss: 0.1567 - accuracy: 0.9361\n",
            "Epoch 29/100\n",
            "164/164 [==============================] - 0s 3ms/step - loss: 0.1564 - accuracy: 0.9363\n",
            "Epoch 30/100\n",
            "164/164 [==============================] - 0s 3ms/step - loss: 0.1512 - accuracy: 0.9380\n",
            "Epoch 31/100\n",
            "164/164 [==============================] - 0s 3ms/step - loss: 0.1520 - accuracy: 0.9378\n",
            "Epoch 32/100\n",
            "164/164 [==============================] - 1s 3ms/step - loss: 0.1483 - accuracy: 0.9383\n",
            "Epoch 33/100\n",
            "164/164 [==============================] - 0s 3ms/step - loss: 0.1484 - accuracy: 0.9397\n",
            "Epoch 34/100\n",
            "164/164 [==============================] - 0s 3ms/step - loss: 0.1477 - accuracy: 0.9381\n",
            "Epoch 35/100\n",
            "164/164 [==============================] - 0s 3ms/step - loss: 0.1451 - accuracy: 0.9413\n",
            "Epoch 36/100\n",
            "164/164 [==============================] - 0s 3ms/step - loss: 0.1428 - accuracy: 0.9417\n",
            "Epoch 37/100\n",
            "164/164 [==============================] - 0s 3ms/step - loss: 0.1382 - accuracy: 0.9439\n",
            "Epoch 38/100\n",
            "164/164 [==============================] - 0s 3ms/step - loss: 0.1394 - accuracy: 0.9434\n",
            "Epoch 39/100\n",
            "164/164 [==============================] - 0s 3ms/step - loss: 0.1359 - accuracy: 0.9431\n",
            "Epoch 40/100\n",
            "164/164 [==============================] - 0s 3ms/step - loss: 0.1410 - accuracy: 0.9411\n",
            "Epoch 41/100\n",
            "164/164 [==============================] - 1s 3ms/step - loss: 0.1383 - accuracy: 0.9443\n",
            "Epoch 42/100\n",
            "164/164 [==============================] - 1s 4ms/step - loss: 0.1322 - accuracy: 0.9458\n",
            "Epoch 43/100\n",
            "164/164 [==============================] - 0s 3ms/step - loss: 0.1299 - accuracy: 0.9461\n",
            "Epoch 44/100\n",
            "164/164 [==============================] - 0s 3ms/step - loss: 0.1273 - accuracy: 0.9471\n",
            "Epoch 45/100\n",
            "164/164 [==============================] - 1s 3ms/step - loss: 0.1297 - accuracy: 0.9462\n",
            "Epoch 46/100\n",
            "164/164 [==============================] - 0s 3ms/step - loss: 0.1265 - accuracy: 0.9486\n",
            "Epoch 47/100\n",
            "164/164 [==============================] - 0s 3ms/step - loss: 0.1344 - accuracy: 0.9440\n",
            "Epoch 48/100\n",
            "164/164 [==============================] - 1s 4ms/step - loss: 0.1267 - accuracy: 0.9463\n",
            "Epoch 49/100\n",
            "164/164 [==============================] - 1s 6ms/step - loss: 0.1234 - accuracy: 0.9483\n",
            "Epoch 50/100\n",
            "164/164 [==============================] - 1s 4ms/step - loss: 0.1251 - accuracy: 0.9487\n",
            "Epoch 51/100\n",
            "164/164 [==============================] - 1s 5ms/step - loss: 0.1237 - accuracy: 0.9473\n",
            "Epoch 52/100\n",
            "164/164 [==============================] - 0s 3ms/step - loss: 0.1209 - accuracy: 0.9488\n",
            "Epoch 53/100\n",
            "164/164 [==============================] - 1s 4ms/step - loss: 0.1212 - accuracy: 0.9491\n",
            "Epoch 54/100\n",
            "164/164 [==============================] - 1s 5ms/step - loss: 0.1197 - accuracy: 0.9501\n",
            "Epoch 55/100\n",
            "164/164 [==============================] - 0s 3ms/step - loss: 0.1137 - accuracy: 0.9523\n",
            "Epoch 56/100\n",
            "164/164 [==============================] - 0s 3ms/step - loss: 0.1270 - accuracy: 0.9446\n",
            "Epoch 57/100\n",
            "164/164 [==============================] - 0s 3ms/step - loss: 0.1118 - accuracy: 0.9514\n",
            "Epoch 58/100\n",
            "164/164 [==============================] - 0s 3ms/step - loss: 0.1162 - accuracy: 0.9505\n",
            "Epoch 59/100\n",
            "164/164 [==============================] - 1s 4ms/step - loss: 0.1155 - accuracy: 0.9508\n",
            "Epoch 60/100\n",
            "164/164 [==============================] - 1s 5ms/step - loss: 0.1152 - accuracy: 0.9509\n",
            "Epoch 61/100\n",
            "164/164 [==============================] - 1s 7ms/step - loss: 0.1102 - accuracy: 0.9540\n",
            "Epoch 62/100\n",
            "164/164 [==============================] - 1s 5ms/step - loss: 0.1108 - accuracy: 0.9530\n",
            "Epoch 63/100\n",
            "164/164 [==============================] - 1s 4ms/step - loss: 0.1092 - accuracy: 0.9536\n",
            "Epoch 64/100\n",
            "164/164 [==============================] - 1s 5ms/step - loss: 0.1106 - accuracy: 0.9531\n",
            "Epoch 65/100\n",
            "164/164 [==============================] - 0s 3ms/step - loss: 0.1091 - accuracy: 0.9546\n",
            "Epoch 66/100\n",
            "164/164 [==============================] - 0s 3ms/step - loss: 0.1084 - accuracy: 0.9538\n",
            "Epoch 67/100\n",
            "164/164 [==============================] - 0s 3ms/step - loss: 0.1108 - accuracy: 0.9538\n",
            "Epoch 68/100\n",
            "164/164 [==============================] - 0s 3ms/step - loss: 0.1071 - accuracy: 0.9545\n",
            "Epoch 69/100\n",
            "164/164 [==============================] - 0s 3ms/step - loss: 0.1090 - accuracy: 0.9537\n",
            "Epoch 70/100\n",
            "164/164 [==============================] - 0s 3ms/step - loss: 0.1076 - accuracy: 0.9545\n",
            "Epoch 71/100\n",
            "164/164 [==============================] - 1s 4ms/step - loss: 0.1065 - accuracy: 0.9549\n",
            "Epoch 72/100\n",
            "164/164 [==============================] - 1s 4ms/step - loss: 0.1017 - accuracy: 0.9578\n",
            "Epoch 73/100\n",
            "164/164 [==============================] - 1s 4ms/step - loss: 0.1089 - accuracy: 0.9552\n",
            "Epoch 74/100\n",
            "164/164 [==============================] - 1s 4ms/step - loss: 0.1032 - accuracy: 0.9561\n",
            "Epoch 75/100\n",
            "164/164 [==============================] - 1s 4ms/step - loss: 0.1027 - accuracy: 0.9572\n",
            "Epoch 76/100\n",
            "164/164 [==============================] - 1s 3ms/step - loss: 0.0981 - accuracy: 0.9594\n",
            "Epoch 77/100\n",
            "164/164 [==============================] - 1s 3ms/step - loss: 0.1019 - accuracy: 0.9574\n",
            "Epoch 78/100\n",
            "164/164 [==============================] - 1s 6ms/step - loss: 0.1006 - accuracy: 0.9561\n",
            "Epoch 79/100\n",
            "164/164 [==============================] - 1s 3ms/step - loss: 0.1035 - accuracy: 0.9555\n",
            "Epoch 80/100\n",
            "164/164 [==============================] - 1s 4ms/step - loss: 0.1063 - accuracy: 0.9547\n",
            "Epoch 81/100\n",
            "164/164 [==============================] - 1s 5ms/step - loss: 0.0969 - accuracy: 0.9585\n",
            "Epoch 82/100\n",
            "164/164 [==============================] - 0s 3ms/step - loss: 0.0963 - accuracy: 0.9604\n",
            "Epoch 83/100\n",
            "164/164 [==============================] - 0s 3ms/step - loss: 0.0959 - accuracy: 0.9591\n",
            "Epoch 84/100\n",
            "164/164 [==============================] - 0s 3ms/step - loss: 0.0934 - accuracy: 0.9609\n",
            "Epoch 85/100\n",
            "164/164 [==============================] - 0s 3ms/step - loss: 0.1015 - accuracy: 0.9578\n",
            "Epoch 86/100\n",
            "164/164 [==============================] - 1s 3ms/step - loss: 0.0922 - accuracy: 0.9619\n",
            "Epoch 87/100\n",
            "164/164 [==============================] - 0s 3ms/step - loss: 0.0951 - accuracy: 0.9596\n",
            "Epoch 88/100\n",
            "164/164 [==============================] - 0s 3ms/step - loss: 0.0990 - accuracy: 0.9586\n",
            "Epoch 89/100\n",
            "164/164 [==============================] - 0s 3ms/step - loss: 0.0999 - accuracy: 0.9579\n",
            "Epoch 90/100\n",
            "164/164 [==============================] - 0s 3ms/step - loss: 0.0906 - accuracy: 0.9618\n",
            "Epoch 91/100\n",
            "164/164 [==============================] - 0s 3ms/step - loss: 0.0920 - accuracy: 0.9618\n",
            "Epoch 92/100\n",
            "164/164 [==============================] - 0s 3ms/step - loss: 0.0917 - accuracy: 0.9626\n",
            "Epoch 93/100\n",
            "164/164 [==============================] - 0s 3ms/step - loss: 0.0918 - accuracy: 0.9616\n",
            "Epoch 94/100\n",
            "164/164 [==============================] - 1s 3ms/step - loss: 0.0891 - accuracy: 0.9623\n",
            "Epoch 95/100\n",
            "164/164 [==============================] - 1s 5ms/step - loss: 0.0961 - accuracy: 0.9596\n",
            "Epoch 96/100\n",
            "164/164 [==============================] - 1s 3ms/step - loss: 0.0890 - accuracy: 0.9634\n",
            "Epoch 97/100\n",
            "164/164 [==============================] - 0s 3ms/step - loss: 0.0845 - accuracy: 0.9645\n",
            "Epoch 98/100\n",
            "164/164 [==============================] - 0s 3ms/step - loss: 0.0821 - accuracy: 0.9660\n",
            "Epoch 99/100\n",
            "164/164 [==============================] - 1s 3ms/step - loss: 0.0844 - accuracy: 0.9652\n",
            "Epoch 100/100\n",
            "164/164 [==============================] - 1s 4ms/step - loss: 0.0872 - accuracy: 0.9641\n"
          ]
        },
        {
          "output_type": "execute_result",
          "data": {
            "text/plain": [
              "<keras.callbacks.History at 0x7fbc173fd890>"
            ]
          },
          "metadata": {},
          "execution_count": 37
        }
      ]
    },
    {
      "cell_type": "code",
      "source": [
        "scores = model.evaluate(X_test, y_test)\n",
        "print(\"\\n%s: %.2f%%\" % (model.metrics_names[1], scores[1]*100))"
      ],
      "metadata": {
        "colab": {
          "base_uri": "https://localhost:8080/"
        },
        "id": "jd1LHoMBm5TV",
        "outputId": "2bec98ca-a5a6-4bbe-c0bf-8ae1bd7c4e21"
      },
      "execution_count": 38,
      "outputs": [
        {
          "output_type": "stream",
          "name": "stdout",
          "text": [
            "128/128 [==============================] - 0s 2ms/step - loss: 0.1714 - accuracy: 0.9383\n",
            "\n",
            "accuracy: 93.83%\n"
          ]
        }
      ]
    },
    {
      "cell_type": "markdown",
      "source": [
        "## b)\n",
        "## Optimizer Adam\n",
        "## Activation Function Sigmoid"
      ],
      "metadata": {
        "id": "Emdz5FEtnTWD"
      }
    },
    {
      "cell_type": "code",
      "source": [
        "model = Sequential()\n",
        "\n",
        "model.add(Dense(50, input_dim=9, activation='sigmoid'))\n",
        "model.add(Dense(100, activation='sigmoid'))\n",
        "model.add(Dense(50, activation='sigmoid'))\n",
        "model.add(Dense(5, activation='softmax'))"
      ],
      "metadata": {
        "id": "I7iml2jfm7yA"
      },
      "execution_count": 39,
      "outputs": []
    },
    {
      "cell_type": "code",
      "source": [
        "adam = keras.optimizers.Adam(lr=0.001, beta_1=0.9, beta_2=0.999, decay=0.0, amsgrad=False)\n",
        "model.compile(loss='sparse_categorical_crossentropy', optimizer=adam, metrics=['accuracy'])"
      ],
      "metadata": {
        "id": "h8lXQOPmngdA"
      },
      "execution_count": 40,
      "outputs": []
    },
    {
      "cell_type": "code",
      "source": [
        "model.fit(X_train, y_train, epochs=100, batch_size=100)"
      ],
      "metadata": {
        "colab": {
          "base_uri": "https://localhost:8080/"
        },
        "id": "alj2V_5QnjMH",
        "outputId": "c64bca61-4767-4e36-f8cd-65c0bd586237"
      },
      "execution_count": 41,
      "outputs": [
        {
          "output_type": "stream",
          "name": "stdout",
          "text": [
            "Epoch 1/100\n",
            "164/164 [==============================] - 1s 5ms/step - loss: 1.2337 - accuracy: 0.4730\n",
            "Epoch 2/100\n",
            "164/164 [==============================] - 0s 3ms/step - loss: 0.9420 - accuracy: 0.6400\n",
            "Epoch 3/100\n",
            "164/164 [==============================] - 0s 3ms/step - loss: 0.7496 - accuracy: 0.7317\n",
            "Epoch 4/100\n",
            "164/164 [==============================] - 0s 3ms/step - loss: 0.6665 - accuracy: 0.7619\n",
            "Epoch 5/100\n",
            "164/164 [==============================] - 0s 3ms/step - loss: 0.6203 - accuracy: 0.7744\n",
            "Epoch 6/100\n",
            "164/164 [==============================] - 0s 3ms/step - loss: 0.5784 - accuracy: 0.7809\n",
            "Epoch 7/100\n",
            "164/164 [==============================] - 1s 5ms/step - loss: 0.5323 - accuracy: 0.7894\n",
            "Epoch 8/100\n",
            "164/164 [==============================] - 1s 4ms/step - loss: 0.4829 - accuracy: 0.8033\n",
            "Epoch 9/100\n",
            "164/164 [==============================] - 0s 3ms/step - loss: 0.4413 - accuracy: 0.8288\n",
            "Epoch 10/100\n",
            "164/164 [==============================] - 0s 3ms/step - loss: 0.4100 - accuracy: 0.8419\n",
            "Epoch 11/100\n",
            "164/164 [==============================] - 0s 3ms/step - loss: 0.3883 - accuracy: 0.8472\n",
            "Epoch 12/100\n",
            "164/164 [==============================] - 0s 3ms/step - loss: 0.3733 - accuracy: 0.8489\n",
            "Epoch 13/100\n",
            "164/164 [==============================] - 0s 3ms/step - loss: 0.3638 - accuracy: 0.8515\n",
            "Epoch 14/100\n",
            "164/164 [==============================] - 0s 3ms/step - loss: 0.3546 - accuracy: 0.8534\n",
            "Epoch 15/100\n",
            "164/164 [==============================] - 0s 3ms/step - loss: 0.3493 - accuracy: 0.8581\n",
            "Epoch 16/100\n",
            "164/164 [==============================] - 0s 3ms/step - loss: 0.3407 - accuracy: 0.8625\n",
            "Epoch 17/100\n",
            "164/164 [==============================] - 1s 6ms/step - loss: 0.3367 - accuracy: 0.8619\n",
            "Epoch 18/100\n",
            "164/164 [==============================] - 1s 5ms/step - loss: 0.3322 - accuracy: 0.8667\n",
            "Epoch 19/100\n",
            "164/164 [==============================] - 1s 4ms/step - loss: 0.3255 - accuracy: 0.8690\n",
            "Epoch 20/100\n",
            "164/164 [==============================] - 0s 3ms/step - loss: 0.3220 - accuracy: 0.8685\n",
            "Epoch 21/100\n",
            "164/164 [==============================] - 0s 3ms/step - loss: 0.3151 - accuracy: 0.8735\n",
            "Epoch 22/100\n",
            "164/164 [==============================] - 0s 3ms/step - loss: 0.3107 - accuracy: 0.8713\n",
            "Epoch 23/100\n",
            "164/164 [==============================] - 0s 3ms/step - loss: 0.3062 - accuracy: 0.8735\n",
            "Epoch 24/100\n",
            "164/164 [==============================] - 0s 3ms/step - loss: 0.2992 - accuracy: 0.8757\n",
            "Epoch 25/100\n",
            "164/164 [==============================] - 0s 3ms/step - loss: 0.2917 - accuracy: 0.8773\n",
            "Epoch 26/100\n",
            "164/164 [==============================] - 0s 3ms/step - loss: 0.2865 - accuracy: 0.8810\n",
            "Epoch 27/100\n",
            "164/164 [==============================] - 0s 3ms/step - loss: 0.2812 - accuracy: 0.8832\n",
            "Epoch 28/100\n",
            "164/164 [==============================] - 0s 3ms/step - loss: 0.2755 - accuracy: 0.8844\n",
            "Epoch 29/100\n",
            "164/164 [==============================] - 0s 3ms/step - loss: 0.2697 - accuracy: 0.8867\n",
            "Epoch 30/100\n",
            "164/164 [==============================] - 0s 3ms/step - loss: 0.2656 - accuracy: 0.8865\n",
            "Epoch 31/100\n",
            "164/164 [==============================] - 0s 3ms/step - loss: 0.2551 - accuracy: 0.8920\n",
            "Epoch 32/100\n",
            "164/164 [==============================] - 0s 3ms/step - loss: 0.2509 - accuracy: 0.8918\n",
            "Epoch 33/100\n",
            "164/164 [==============================] - 0s 3ms/step - loss: 0.2458 - accuracy: 0.8947\n",
            "Epoch 34/100\n",
            "164/164 [==============================] - 0s 3ms/step - loss: 0.2413 - accuracy: 0.8951\n",
            "Epoch 35/100\n",
            "164/164 [==============================] - 0s 3ms/step - loss: 0.2348 - accuracy: 0.8989\n",
            "Epoch 36/100\n",
            "164/164 [==============================] - 0s 3ms/step - loss: 0.2292 - accuracy: 0.8995\n",
            "Epoch 37/100\n",
            "164/164 [==============================] - 0s 3ms/step - loss: 0.2262 - accuracy: 0.9032\n",
            "Epoch 38/100\n",
            "164/164 [==============================] - 0s 3ms/step - loss: 0.2222 - accuracy: 0.9039\n",
            "Epoch 39/100\n",
            "164/164 [==============================] - 0s 3ms/step - loss: 0.2202 - accuracy: 0.9047\n",
            "Epoch 40/100\n",
            "164/164 [==============================] - 0s 3ms/step - loss: 0.2154 - accuracy: 0.9062\n",
            "Epoch 41/100\n",
            "164/164 [==============================] - 0s 3ms/step - loss: 0.2108 - accuracy: 0.9129\n",
            "Epoch 42/100\n",
            "164/164 [==============================] - 0s 2ms/step - loss: 0.2097 - accuracy: 0.9093\n",
            "Epoch 43/100\n",
            "164/164 [==============================] - 0s 3ms/step - loss: 0.2089 - accuracy: 0.9112\n",
            "Epoch 44/100\n",
            "164/164 [==============================] - 0s 2ms/step - loss: 0.2036 - accuracy: 0.9124\n",
            "Epoch 45/100\n",
            "164/164 [==============================] - 0s 3ms/step - loss: 0.2020 - accuracy: 0.9156\n",
            "Epoch 46/100\n",
            "164/164 [==============================] - 0s 3ms/step - loss: 0.2003 - accuracy: 0.9151\n",
            "Epoch 47/100\n",
            "164/164 [==============================] - 0s 3ms/step - loss: 0.1983 - accuracy: 0.9172\n",
            "Epoch 48/100\n",
            "164/164 [==============================] - 1s 3ms/step - loss: 0.1951 - accuracy: 0.9166\n",
            "Epoch 49/100\n",
            "164/164 [==============================] - 0s 3ms/step - loss: 0.1903 - accuracy: 0.9216\n",
            "Epoch 50/100\n",
            "164/164 [==============================] - 0s 3ms/step - loss: 0.1912 - accuracy: 0.9185\n",
            "Epoch 51/100\n",
            "164/164 [==============================] - 0s 3ms/step - loss: 0.1878 - accuracy: 0.9207\n",
            "Epoch 52/100\n",
            "164/164 [==============================] - 0s 3ms/step - loss: 0.1873 - accuracy: 0.9202\n",
            "Epoch 53/100\n",
            "164/164 [==============================] - 0s 3ms/step - loss: 0.1862 - accuracy: 0.9218\n",
            "Epoch 54/100\n",
            "164/164 [==============================] - 0s 3ms/step - loss: 0.1827 - accuracy: 0.9224\n",
            "Epoch 55/100\n",
            "164/164 [==============================] - 0s 3ms/step - loss: 0.1830 - accuracy: 0.9215\n",
            "Epoch 56/100\n",
            "164/164 [==============================] - 0s 3ms/step - loss: 0.1810 - accuracy: 0.9225\n",
            "Epoch 57/100\n",
            "164/164 [==============================] - 0s 3ms/step - loss: 0.1790 - accuracy: 0.9229\n",
            "Epoch 58/100\n",
            "164/164 [==============================] - 0s 3ms/step - loss: 0.1784 - accuracy: 0.9237\n",
            "Epoch 59/100\n",
            "164/164 [==============================] - 0s 3ms/step - loss: 0.1754 - accuracy: 0.9249\n",
            "Epoch 60/100\n",
            "164/164 [==============================] - 0s 3ms/step - loss: 0.1758 - accuracy: 0.9259\n",
            "Epoch 61/100\n",
            "164/164 [==============================] - 0s 3ms/step - loss: 0.1735 - accuracy: 0.9247\n",
            "Epoch 62/100\n",
            "164/164 [==============================] - 0s 3ms/step - loss: 0.1721 - accuracy: 0.9254\n",
            "Epoch 63/100\n",
            "164/164 [==============================] - 0s 3ms/step - loss: 0.1732 - accuracy: 0.9247\n",
            "Epoch 64/100\n",
            "164/164 [==============================] - 0s 3ms/step - loss: 0.1709 - accuracy: 0.9264\n",
            "Epoch 65/100\n",
            "164/164 [==============================] - 0s 3ms/step - loss: 0.1707 - accuracy: 0.9271\n",
            "Epoch 66/100\n",
            "164/164 [==============================] - 0s 3ms/step - loss: 0.1687 - accuracy: 0.9265\n",
            "Epoch 67/100\n",
            "164/164 [==============================] - 0s 3ms/step - loss: 0.1705 - accuracy: 0.9269\n",
            "Epoch 68/100\n",
            "164/164 [==============================] - 0s 3ms/step - loss: 0.1663 - accuracy: 0.9289\n",
            "Epoch 69/100\n",
            "164/164 [==============================] - 0s 3ms/step - loss: 0.1677 - accuracy: 0.9284\n",
            "Epoch 70/100\n",
            "164/164 [==============================] - 1s 3ms/step - loss: 0.1654 - accuracy: 0.9289\n",
            "Epoch 71/100\n",
            "164/164 [==============================] - 1s 3ms/step - loss: 0.1634 - accuracy: 0.9292\n",
            "Epoch 72/100\n",
            "164/164 [==============================] - 1s 5ms/step - loss: 0.1623 - accuracy: 0.9292\n",
            "Epoch 73/100\n",
            "164/164 [==============================] - 1s 5ms/step - loss: 0.1622 - accuracy: 0.9303\n",
            "Epoch 74/100\n",
            "164/164 [==============================] - 1s 5ms/step - loss: 0.1610 - accuracy: 0.9314\n",
            "Epoch 75/100\n",
            "164/164 [==============================] - 1s 4ms/step - loss: 0.1621 - accuracy: 0.9315\n",
            "Epoch 76/100\n",
            "164/164 [==============================] - 0s 3ms/step - loss: 0.1601 - accuracy: 0.9316\n",
            "Epoch 77/100\n",
            "164/164 [==============================] - 0s 3ms/step - loss: 0.1599 - accuracy: 0.9303\n",
            "Epoch 78/100\n",
            "164/164 [==============================] - 0s 3ms/step - loss: 0.1586 - accuracy: 0.9305\n",
            "Epoch 79/100\n",
            "164/164 [==============================] - 0s 3ms/step - loss: 0.1617 - accuracy: 0.9302\n",
            "Epoch 80/100\n",
            "164/164 [==============================] - 1s 3ms/step - loss: 0.1577 - accuracy: 0.9314\n",
            "Epoch 81/100\n",
            "164/164 [==============================] - 0s 3ms/step - loss: 0.1574 - accuracy: 0.9321\n",
            "Epoch 82/100\n",
            "164/164 [==============================] - 0s 3ms/step - loss: 0.1576 - accuracy: 0.9318\n",
            "Epoch 83/100\n",
            "164/164 [==============================] - 0s 3ms/step - loss: 0.1560 - accuracy: 0.9328\n",
            "Epoch 84/100\n",
            "164/164 [==============================] - 0s 3ms/step - loss: 0.1601 - accuracy: 0.9279\n",
            "Epoch 85/100\n",
            "164/164 [==============================] - 0s 3ms/step - loss: 0.1555 - accuracy: 0.9314\n",
            "Epoch 86/100\n",
            "164/164 [==============================] - 0s 3ms/step - loss: 0.1556 - accuracy: 0.9321\n",
            "Epoch 87/100\n",
            "164/164 [==============================] - 0s 3ms/step - loss: 0.1526 - accuracy: 0.9343\n",
            "Epoch 88/100\n",
            "164/164 [==============================] - 1s 4ms/step - loss: 0.1541 - accuracy: 0.9323\n",
            "Epoch 89/100\n",
            "164/164 [==============================] - 1s 5ms/step - loss: 0.1536 - accuracy: 0.9339\n",
            "Epoch 90/100\n",
            "164/164 [==============================] - 0s 3ms/step - loss: 0.1534 - accuracy: 0.9316\n",
            "Epoch 91/100\n",
            "164/164 [==============================] - 0s 3ms/step - loss: 0.1511 - accuracy: 0.9340\n",
            "Epoch 92/100\n",
            "164/164 [==============================] - 0s 3ms/step - loss: 0.1500 - accuracy: 0.9359\n",
            "Epoch 93/100\n",
            "164/164 [==============================] - 0s 3ms/step - loss: 0.1520 - accuracy: 0.9355\n",
            "Epoch 94/100\n",
            "164/164 [==============================] - 1s 4ms/step - loss: 0.1508 - accuracy: 0.9350\n",
            "Epoch 95/100\n",
            "164/164 [==============================] - 1s 5ms/step - loss: 0.1503 - accuracy: 0.9338\n",
            "Epoch 96/100\n",
            "164/164 [==============================] - 0s 3ms/step - loss: 0.1499 - accuracy: 0.9342\n",
            "Epoch 97/100\n",
            "164/164 [==============================] - 0s 3ms/step - loss: 0.1476 - accuracy: 0.9356\n",
            "Epoch 98/100\n",
            "164/164 [==============================] - 0s 3ms/step - loss: 0.1474 - accuracy: 0.9359\n",
            "Epoch 99/100\n",
            "164/164 [==============================] - 0s 3ms/step - loss: 0.1477 - accuracy: 0.9353\n",
            "Epoch 100/100\n",
            "164/164 [==============================] - 0s 3ms/step - loss: 0.1506 - accuracy: 0.9342\n"
          ]
        },
        {
          "output_type": "execute_result",
          "data": {
            "text/plain": [
              "<keras.callbacks.History at 0x7fbc1740d710>"
            ]
          },
          "metadata": {},
          "execution_count": 41
        }
      ]
    },
    {
      "cell_type": "code",
      "source": [
        "scores = model.evaluate(X_test, y_test)\n",
        "print(\"\\n%s: %.2f%%\" % (model.metrics_names[1], scores[1]*100))"
      ],
      "metadata": {
        "colab": {
          "base_uri": "https://localhost:8080/"
        },
        "id": "hN_P8xAgnk7y",
        "outputId": "418ea018-617c-4ab9-9e3b-cb0de938c18c"
      },
      "execution_count": 42,
      "outputs": [
        {
          "output_type": "stream",
          "name": "stdout",
          "text": [
            "128/128 [==============================] - 0s 2ms/step - loss: 0.1666 - accuracy: 0.9290\n",
            "\n",
            "accuracy: 92.90%\n"
          ]
        }
      ]
    },
    {
      "cell_type": "markdown",
      "source": [
        "From all, Optimizer adam with activation function relu did the best and had the highest accuracy.\n",
        "\n",
        "sgd optimizer and af sigmoid had the worst accuracy out of all."
      ],
      "metadata": {
        "id": "MPIUVbBinvnt"
      }
    },
    {
      "cell_type": "code",
      "source": [],
      "metadata": {
        "id": "n7x4VOwmoF_X"
      },
      "execution_count": null,
      "outputs": []
    }
  ],
  "metadata": {
    "kernelspec": {
      "display_name": "Python 3.10.4 ('pythonProject')",
      "language": "python",
      "name": "python3"
    },
    "language_info": {
      "codemirror_mode": {
        "name": "ipython",
        "version": 3
      },
      "file_extension": ".py",
      "mimetype": "text/x-python",
      "name": "python",
      "nbconvert_exporter": "python",
      "pygments_lexer": "ipython3",
      "version": "3.10.4"
    },
    "orig_nbformat": 4,
    "vscode": {
      "interpreter": {
        "hash": "c95b79b9472547e76e051c9794a40cce8ab2c20236968cfbaf2178f8cda33adf"
      }
    },
    "colab": {
      "provenance": [],
      "collapsed_sections": []
    }
  },
  "nbformat": 4,
  "nbformat_minor": 0
}